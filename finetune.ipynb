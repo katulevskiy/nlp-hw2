{
 "cells": [
  {
   "cell_type": "markdown",
   "metadata": {
    "id": "nLDBRhYnS6Pu"
   },
   "source": [
    "# Instructions\n",
    "- Before running the jupyter notebook, don't forget to copy it into your drive **(`File` => `Save a copy in Drive`)**. *Failing to do this step may result in losing the progress of your code.*\n",
    "- Change your resource type to GPU before progressing **(`Runtime` => `Change runtime time` => `T4 GPU`).**\n",
    "- There are six steps for this exercise (including step 0, the preperation step). You will complete the the code blocks denoted by **`TODO:`**.\n",
    "\n",
    "# Step 0: Preperation\n",
    "\n",
    "**Step 0.1:** Install dependency\n",
    "- This step could take a while.\n",
    "\n",
    "**Step 0.2:** Mount data and files to your drive (optional).\n",
    "- This is useful if you want to save your model weights, etc.\n",
    "- You will see a few popup windows asking for your authorization for this notebook to access your Google Drive files. You need to say yes to all of them."
   ]
  },
  {
   "cell_type": "code",
   "execution_count": null,
   "metadata": {
    "id": "GKtzKEQ_SCyw"
   },
   "outputs": [],
   "source": [
    "# Step 0.1: Install dependency and download codebase\n",
    "# %pip install torch transformers datasets tqdm matplotlib\n",
    "# !mkdir checkpoints"
   ]
  },
  {
   "cell_type": "code",
   "execution_count": null,
   "metadata": {
    "id": "L_4yRXYMIAnh"
   },
   "outputs": [],
   "source": [
    "# Step 0.2: Mount data and files to your drive (optional).\n",
    "# from google.colab import drive\n",
    "# drive.mount('/content/drive')"
   ]
  },
  {
   "cell_type": "markdown",
   "metadata": {
    "id": "Qq_4e2P7FWg9"
   },
   "source": [
    "# Step 1: Defining PyTorch Dataset and Dataloader\n",
    "\n",
    "First, you will implement a dataset class (named `SST2Dataset`) for processing the SST-2 dataset. You can find details of the basics of Dataset and Dateloader in this [tutorial](https://pytorch.org/tutorials/beginner/basics/data_tutorial.html).\n",
    "\n",
    "We defined the `SST2Example` class for you, which is used to convert a dict of raw data into an SST2Example object that contains a text and label."
   ]
  },
  {
   "cell_type": "code",
   "metadata": {
    "id": "BZSVUen2Fut9",
    "ExecuteTime": {
     "end_time": "2025-02-13T03:03:17.936780Z",
     "start_time": "2025-02-13T03:03:16.038581Z"
    }
   },
   "source": [
    "# Load necessary packages\n",
    "from dataclasses import dataclass\n",
    "from typing import List, Tuple\n",
    "\n",
    "import torch\n",
    "from torch.utils.data import Dataset, DataLoader\n",
    "from transformers import PreTrainedTokenizerFast, AutoTokenizer\n",
    "from datasets import load_dataset\n",
    "\n",
    "######################################################\n",
    "#  The following code is given to you.\n",
    "######################################################\n",
    "\n",
    "@dataclass\n",
    "class SST2Example:\n",
    "    \"\"\"\n",
    "    Convert a dict of raw data into an SST2Example object that contains a text and label.\n",
    "    If you're interested, you can find descriptions of dataclass at https://docs.python.org/3/library/dataclasses.html\n",
    "    \"\"\"\n",
    "    text: str\n",
    "    label: int  # 0 for negative, 1 for positive\n",
    "\n",
    "    @staticmethod\n",
    "    def from_dict(data: dict):\n",
    "        text = data['text']\n",
    "        label = data['label']\n",
    "\n",
    "        return SST2Example(\n",
    "            text=text,\n",
    "            label=label,\n",
    "        )\n",
    "\n",
    "\n",
    "def initialize_datasets(tokenizer: PreTrainedTokenizerFast) -> dict:\n",
    "    \"\"\"\n",
    "    Initialize the dataset objects for all splits based on the raw data.\n",
    "    :param tokenizer: A tokenizer used to prepare the inputs for a model (see details in https://huggingface.co/docs/transformers/main_classes/tokenizer).\n",
    "    :return: A dictionary of the dataset splits.\n",
    "    \"\"\"\n",
    "    raw_data = load_dataset(\"gpt3mix/sst2\")\n",
    "    split_datasets = {}\n",
    "\n",
    "    for split_name in raw_data.keys():\n",
    "        split_data = list(raw_data[split_name])\n",
    "\n",
    "        split_datasets[split_name] = SST2Dataset(tokenizer, split_data)\n",
    "\n",
    "    return split_datasets"
   ],
   "outputs": [],
   "execution_count": 1
  },
  {
   "cell_type": "markdown",
   "metadata": {
    "id": "5LX8SLHbSyzv"
   },
   "source": [
    "## **Coding Exercises** for Step 1:\n",
    "Below, we provide a skeleton for creating a SST-3 Dataset object. **You will complete the following code blocks denoted by `TODO:`.**  \n",
    "You can read more about `PreTrainedTokenizerFast` [here](https://huggingface.co/docs/transformers/main_classes/tokenizer#transformers.PreTrainedTokenizerFast.__call__) (e.g., why do we set `padding`, `max_length`, `truncation`, and `return_tensors` to the values provided below)."
   ]
  },
  {
   "cell_type": "code",
   "metadata": {
    "id": "lCfmeRwBK1rD",
    "ExecuteTime": {
     "end_time": "2025-02-13T03:03:19.429736Z",
     "start_time": "2025-02-13T03:03:19.426652Z"
    }
   },
   "source": [
    "class SST2Dataset(Dataset):\n",
    "    \"\"\"\n",
    "    Create a customized dataset object for SST-2.\n",
    "    A custom Dataset class must implement three functions: __init__, __len__, and __getitem__.\n",
    "    You can find a detailed tutorial on Dataset at https://pytorch.org/tutorials/beginner/basics/data_tutorial.html.\n",
    "    \"\"\"\n",
    "    tokenizer: PreTrainedTokenizerFast = None\n",
    "\n",
    "    def __init__(self, tokenizer: PreTrainedTokenizerFast, raw_data_list: List[dict]):\n",
    "        SST2Dataset.tokenizer = tokenizer\n",
    "        self.sample_list = [SST2Example.from_dict(data) for data in raw_data_list]\n",
    "\n",
    "    def __len__(self):\n",
    "        \"\"\"\n",
    "        Get the number of items in the dataset.\n",
    "        \"\"\"\n",
    "        # TODO: return the number of samples in sample_list.\n",
    "        return len(self.sample_list)\n",
    "\n",
    "    def __getitem__(self, idx):\n",
    "        \"\"\"\n",
    "        Get the idx-th item from the dataset.\n",
    "        \"\"\"\n",
    "        # TODO: return the idx-th item in sample_list.\n",
    "        return self.sample_list[idx]\n",
    "\n",
    "    def __iter__(self):\n",
    "        \"\"\"\n",
    "        Get an iterator for the dataset.\n",
    "        \"\"\"\n",
    "        # TODO: return an iterator for sample_list.\n",
    "        return iter(self.sample_list)\n",
    "\n",
    "    @staticmethod\n",
    "    def collate_fn(batched_samples: List[SST2Example]) -> dict:\n",
    "        \"\"\"\n",
    "        Encode samples in batched_samples: tokenize the input texts, and turn labels into a tensor.\n",
    "        :param batched_samples: A list of SST2Example samples.\n",
    "        :return: A dictionary of encoded texts and their corresponding labels (in tensors).\n",
    "        \"\"\"\n",
    "        # TODO: collect all input texts from batched_samples into a list.\n",
    "        batched_text = [sample.text for sample in batched_samples]\n",
    "\n",
    "        # TODO: collect all labels from batched_samples into a list.\n",
    "        batched_label = [sample.label for sample in batched_samples]\n",
    "\n",
    "        # Tokenize the input texts.\n",
    "        text_encoding = SST2Dataset.tokenizer(batched_text,\n",
    "                                              padding=True,\n",
    "                                              max_length=512,\n",
    "                                              truncation=True,\n",
    "                                              return_tensors=\"pt\")\n",
    "\n",
    "        # TODO: convert data type of the labels to torch.long (Hint: using torch.LongTensor).\n",
    "        label_encoding = torch.LongTensor(batched_label)\n",
    "\n",
    "        # TODO: return dictionary of encoded texts and labels.\n",
    "        return {\n",
    "            \"input_ids\": text_encoding[\"input_ids\"],\n",
    "            \"attention_mask\": text_encoding[\"attention_mask\"],\n",
    "            \"labels\": label_encoding\n",
    "        }"
   ],
   "outputs": [],
   "execution_count": 2
  },
  {
   "cell_type": "markdown",
   "metadata": {
    "id": "ypEhAyqLdfuK"
   },
   "source": [
    "# Step 2: Loading Data\n",
    "Here, you will load the data using the Dataloader of the dataset you built from the previous step."
   ]
  },
  {
   "cell_type": "markdown",
   "metadata": {
    "id": "Snh8dTy2d88M"
   },
   "source": [
    "## **Coding Exercises** for Step 2:\n",
    "You will complete the following code blocks denoted by `TODO:`."
   ]
  },
  {
   "cell_type": "code",
   "metadata": {
    "id": "qW5cX6L6SuNt",
    "ExecuteTime": {
     "end_time": "2025-02-13T03:03:24.022196Z",
     "start_time": "2025-02-13T03:03:22.177825Z"
    }
   },
   "source": [
    "\"\"\"\n",
    "Load train / validation / test dataset, using `initialize_datasets` in `dataset.py`.\n",
    "\"\"\"\n",
    "# TODO: load pre-trained tokenizer for roberta-base from transformers library.\n",
    "# See more examples here: https://huggingface.co/docs/transformers/v4.37.0/en/model_doc/roberta#transformers.RobertaForSequenceClassification.forward.example\n",
    "tokenizer = AutoTokenizer.from_pretrained(\"roberta-base\")\n",
    "\n",
    "# TODO: load datasets using initialize_datasets.\n",
    "datasets = initialize_datasets(tokenizer)\n",
    "\n",
    "# TODO: get the first data point in your validation dataset.\n",
    "# Hint: (for you to debug) you returned data point should look like `SST2Example(text=\"It 's a lovely ...\", label=0)`\n",
    "val_first_element = datasets['validation'][0]\n",
    "\n",
    "# TODO: get the length of train, validation, and test datasets using `datasets` variable.\n",
    "length_train = len(datasets['train'])\n",
    "length_val = len(datasets['validation'])\n",
    "length_test = len(datasets['test'])\n",
    "\n",
    "\"\"\"\n",
    "To load batch of samples from `torch.Dataset` during training / inference, we use `DataLoader` class.\n",
    "Below, we provide an example of loading a dataloader for the validation split of SST-2.\n",
    "\"\"\"\n",
    "validation_dataloader = DataLoader(datasets['validation'],\n",
    "                                   batch_size=64,\n",
    "                                   shuffle=False,\n",
    "                                   collate_fn=SST2Dataset.collate_fn,\n",
    "                                   num_workers=2)\n",
    "\n",
    "# TODO: load the first batch of samples from the validation dataset\n",
    "# Hint: use iterator!\n",
    "batch = next(iter(validation_dataloader))\n"
   ],
   "outputs": [],
   "execution_count": 3
  },
  {
   "cell_type": "markdown",
   "metadata": {
    "id": "_EwftWQpXJ-4"
   },
   "source": [
    "# Step 3: Training and Evaluation"
   ]
  },
  {
   "cell_type": "code",
   "metadata": {
    "id": "kZirwxUXYd6e",
    "ExecuteTime": {
     "end_time": "2025-02-13T03:03:25.263416Z",
     "start_time": "2025-02-13T03:03:25.257100Z"
    }
   },
   "source": [
    "import torch\n",
    "import torch.nn as nn\n",
    "from torch.utils.data import DataLoader\n",
    "from torch.optim import Optimizer, AdamW\n",
    "from tqdm.notebook import tqdm\n",
    "from transformers import AutoTokenizer, AutoModelForSequenceClassification"
   ],
   "outputs": [],
   "execution_count": 4
  },
  {
   "cell_type": "markdown",
   "metadata": {
    "id": "_Fwo2RQsoeP0"
   },
   "source": [
    "## **Coding Exercises** for Step 3:\n",
    "Here, we provide a skeleton for two functions, `train_one_epoch` and `evaluate`. **You will complete code blocks denoted by `TODO:`.**  \n",
    "You can learn more about optimizers and the basic structure of a training loop in [this tutorial](https://pytorch.org/tutorials/beginner/introyt/trainingyt.html)."
   ]
  },
  {
   "cell_type": "code",
   "metadata": {
    "id": "o3d2qrp2XPqZ",
    "ExecuteTime": {
     "end_time": "2025-02-13T03:03:27.157889Z",
     "start_time": "2025-02-13T03:03:27.155285Z"
    }
   },
   "source": [
    "def train_one_epoch(model: nn.Module, dataloader: DataLoader, optimizer: Optimizer, epoch: int):\n",
    "    \"\"\"\n",
    "    Train the model for one epoch.\n",
    "    :param model: A pre-trained model loaded from transformers. (e.g., RobertaForSequenceClassification https://huggingface.co/docs/transformers/v4.37.0/en/model_doc/roberta#transformers.RobertaForSequenceClassification)\n",
    "    :param dataloader: A train set dataloader for SST2Dataset.\n",
    "    :param optimizer: An instance of Pytorch optimizer. (e.g., AdamW https://pytorch.org/docs/stable/generated/torch.optim.AdamW.html)\n",
    "    :param epoch: An integer denoting current epoch.\n",
    "    Trains model for one epoch.\n",
    "    \"\"\"\n",
    "    # TODO: set the model to the training mode.\n",
    "    model.train()\n",
    "\n",
    "    with tqdm(dataloader, desc=f\"Train Ep {epoch}\", total=len(dataloader)) as tq:\n",
    "        for batch in tq:\n",
    "            # TODO: retrieve the data from your batch and send it to the same device as your model (i.e., model.device).\n",
    "            # Hint: model.device should point to 'cuda' as you set it as such in the main function below.\n",
    "            #       However, please use `model.device` and don't hard code it to 'cuda' as the auto-grader will put the model on CPU.\n",
    "            text_encoding = {k: v.to(model.device) for k, v in batch.items() if k != 'labels'}\n",
    "            label_encoding = batch['labels'].to(model.device)\n",
    "\n",
    "            # TODO: Compute loss by running model with text_encoding and label_encoding.\n",
    "            outputs = model(**text_encoding, labels=label_encoding)\n",
    "            loss = outputs.loss\n",
    "\n",
    "            # TODO: compute gradients and update parameters using optimizer.\n",
    "            # Hint: you need three lines of code here!\n",
    "            optimizer.zero_grad()\n",
    "            loss.backward()\n",
    "            optimizer.step()\n",
    "\n",
    "            tq.set_postfix({\"loss\": loss.detach().item()}) # for printing better-looking progress bar"
   ],
   "outputs": [],
   "execution_count": 5
  },
  {
   "cell_type": "code",
   "metadata": {
    "id": "i2xd5kiSXJVu",
    "ExecuteTime": {
     "end_time": "2025-02-13T03:03:29.011408Z",
     "start_time": "2025-02-13T03:03:29.008260Z"
    }
   },
   "source": [
    "def evaluate(model: nn.Module, dataloader: DataLoader) -> float:\n",
    "    \"\"\"\n",
    "    Evaluate model on the dataloader and compute the accuracy.\n",
    "    :param model: A language model loaded from transformers. (e.g., RobertaForSequenceClassification https://huggingface.co/docs/transformers/v4.37.0/en/model_doc/roberta#transformers.RobertaForSequenceClassification)\n",
    "    :param dataloader: A validation / test set dataloader for SST2Dataset\n",
    "    :return: A floating number representing the accuracy of model in the given dataset.\n",
    "    \"\"\"\n",
    "    # TODO: set the model to the evaluation mode.\n",
    "    model.eval()\n",
    "\n",
    "    all_predictions = []\n",
    "    all_labels = []\n",
    "    with tqdm(dataloader, desc=f\"Eval\", total=len(dataloader)) as tq:\n",
    "        for batch in tq:\n",
    "            with torch.no_grad():\n",
    "                # TODO: retrieve the data from your batch and send it to the same device as your model (i.e., model.device).\n",
    "                # Hint: model.device should point to 'cuda' as you set it as such in the main function below.\n",
    "                #       However, please use `model.device` and don't hard code it to 'cuda' as the auto-grader will put the model on CPU.\n",
    "                text_encoding = {k: v.to(model.device) for k, v in batch.items() if k != 'labels'}\n",
    "                label_encoding = batch['labels'].to(model.device)\n",
    "\n",
    "                # TODO: inference with model and compute logits.\n",
    "                outputs = model(**text_encoding)\n",
    "                logits = outputs.logits # Hint: logit should be of size (batch_size, 2)\n",
    "\n",
    "                # TODO: compute list of predictions and list of labels for the current batch\n",
    "                predictions = torch.argmax(logits, dim=1).tolist() # Hint: should be a list [0, 1, ...] of predicted labels\n",
    "                labels = label_encoding.tolist() # Hint: should be a list [0, 1, ...] of ground-truth labels\n",
    "\n",
    "                all_predictions += predictions\n",
    "                all_labels += labels\n",
    "\n",
    "    # compute accuracy\n",
    "    all_predictions = torch.Tensor(all_predictions)\n",
    "    all_labels = torch.Tensor(all_labels)\n",
    "    accuracy = compute_accuracy(all_predictions, all_labels)\n",
    "\n",
    "    print(f\"Accuracy: {accuracy}\")\n",
    "    return accuracy\n",
    "\n",
    "\n",
    "def compute_accuracy(predictions: torch.Tensor, labels: torch.Tensor) -> float:\n",
    "    \"\"\"\n",
    "    Given two tensors predictions and labels, compute the accuracy.\n",
    "    :param predictions: torch.Tensor of size (N,)\n",
    "    :param labels: torch.Tensor of size (N,)\n",
    "    :return: A floating number representing the accuracy\n",
    "    \"\"\"\n",
    "    assert predictions.size(-1) == labels.size(-1)\n",
    "\n",
    "    # TODO: compute accuracy\n",
    "    accuracy = (predictions == labels).float().mean().item()\n",
    "    return accuracy"
   ],
   "outputs": [],
   "execution_count": 6
  },
  {
   "cell_type": "markdown",
   "metadata": {
    "id": "4c64zTgzaKNR"
   },
   "source": [
    "# Step 4: Main Training Loop\n",
    "\n",
    "The main function uses all the functions implemented above to learn a model for certain number of epochs and evaluate it. Read through the comments and implement `main` that fine-tunes the RoBERTa-based on SST-2."
   ]
  },
  {
   "cell_type": "markdown",
   "metadata": {
    "id": "biwuzhhYO57P"
   },
   "source": [
    "## **Coding Exercises** for Step 4:\n",
    "Here, we provide a skeleton for the `main` function. **You will complete code blocks denoted by `TODO:`.**"
   ]
  },
  {
   "cell_type": "code",
   "metadata": {
    "id": "DTG5EnW7UyPL",
    "ExecuteTime": {
     "end_time": "2025-02-13T03:03:31.867533Z",
     "start_time": "2025-02-13T03:03:31.863168Z"
    }
   },
   "source": [
    "torch.manual_seed(64)\n",
    "\n",
    "def main():\n",
    "    # hyper-parameters (we provide initial set of values here, but you can modify them.)\n",
    "    batch_size = 64\n",
    "    learning_rate = 5e-5\n",
    "    num_epochs = 10\n",
    "    model_name = \"roberta-base\"\n",
    "\n",
    "    # TODO: load pre-trained model and corresponding tokenizer (given model_name above).\n",
    "    tokenizer = AutoTokenizer.from_pretrained(model_name)\n",
    "    model = AutoModelForSequenceClassification.from_pretrained(model_name, num_labels=2)\n",
    "\n",
    "    # load model on GPU.\n",
    "    model = model.cuda()\n",
    "\n",
    "    # TODO: initialize the AdamW optimizer with optional arguments: lr=learning_rate, eps=1e-8\n",
    "    optimizer = AdamW(model.parameters(), lr=learning_rate, eps=1e-8)\n",
    "\n",
    "    # TODO: load datasets.\n",
    "    datasets = initialize_datasets(tokenizer)\n",
    "\n",
    "    # TODO: initialize that training and evaluation (validation / test) dataloaders.\n",
    "    # Hint: you should use the validation dataset during hyperparameter tuning,\n",
    "    # and evaluate the model on the test set once after you finalize the design choice of your model.\n",
    "    # Hint: you should shuffle the training data, but not the validation data.\n",
    "    train_dataloader = DataLoader(datasets['train'], batch_size=batch_size, shuffle=True, collate_fn=SST2Dataset.collate_fn)\n",
    "    validation_dataloader = DataLoader(datasets['validation'], batch_size=batch_size, shuffle=False, collate_fn=SST2Dataset.collate_fn)\n",
    "\n",
    "    # training loop.\n",
    "    best_acc = 0.0\n",
    "    for epoch in range(1, num_epochs + 1):\n",
    "        train_one_epoch(model, train_dataloader, optimizer, epoch)\n",
    "        valid_acc = evaluate(model, validation_dataloader)\n",
    "\n",
    "        # TODO: if the newly trained model checkpoint is better than the previously\n",
    "        # saved checkpoint, save the new model in `./checkpoints` folder.\n",
    "        # Hint: remember to update best_acc to the accuracy of the best model so far.\n",
    "        if valid_acc > best_acc:\n",
    "            best_acc = valid_acc\n",
    "            torch.save(model.state_dict(), './checkpoints/best_model.pth')\n",
    "            print(f\"New best model saved with accuracy: {best_acc:.4f}\")\n"
   ],
   "outputs": [],
   "execution_count": 7
  },
  {
   "metadata": {
    "ExecuteTime": {
     "end_time": "2025-02-13T03:03:33.778932Z",
     "start_time": "2025-02-13T03:03:33.772202Z"
    }
   },
   "cell_type": "code",
   "source": [
    "from tqdm.notebook import tqdm\n",
    "tqdm(range(10))"
   ],
   "outputs": [
    {
     "data": {
      "text/plain": [
       "  0%|          | 0/10 [00:00<?, ?it/s]"
      ],
      "application/vnd.jupyter.widget-view+json": {
       "version_major": 2,
       "version_minor": 0,
       "model_id": "e616bea25a9f4655806e53b1a7a50b9f"
      }
     },
     "metadata": {},
     "output_type": "display_data"
    },
    {
     "data": {
      "text/plain": [
       "<tqdm.notebook.tqdm_notebook at 0x75b69036c170>"
      ]
     },
     "execution_count": 8,
     "metadata": {},
     "output_type": "execute_result"
    }
   ],
   "execution_count": 8
  },
  {
   "cell_type": "code",
   "metadata": {
    "id": "XmMc07CfUtJo",
    "ExecuteTime": {
     "end_time": "2025-02-13T03:04:59.303623Z",
     "start_time": "2025-02-13T03:03:35.999889Z"
    }
   },
   "source": [
    "# Run the main training loop.\n",
    "# NOTE: if implemented well, each training epoch will take less than 2 minutes.\n",
    "main()"
   ],
   "outputs": [
    {
     "name": "stderr",
     "output_type": "stream",
     "text": [
      "Some weights of RobertaForSequenceClassification were not initialized from the model checkpoint at roberta-base and are newly initialized: ['classifier.dense.bias', 'classifier.dense.weight', 'classifier.out_proj.bias', 'classifier.out_proj.weight']\n",
      "You should probably TRAIN this model on a down-stream task to be able to use it for predictions and inference.\n"
     ]
    },
    {
     "data": {
      "text/plain": [
       "Train Ep 1:   0%|          | 0/109 [00:00<?, ?it/s]"
      ],
      "application/vnd.jupyter.widget-view+json": {
       "version_major": 2,
       "version_minor": 0,
       "model_id": "cb722c54e72443b2be790edc4968841a"
      }
     },
     "metadata": {},
     "output_type": "display_data"
    },
    {
     "data": {
      "text/plain": [
       "Eval:   0%|          | 0/14 [00:00<?, ?it/s]"
      ],
      "application/vnd.jupyter.widget-view+json": {
       "version_major": 2,
       "version_minor": 0,
       "model_id": "566f35dd0b4747f1920da30e8861ef0a"
      }
     },
     "metadata": {},
     "output_type": "display_data"
    },
    {
     "name": "stdout",
     "output_type": "stream",
     "text": [
      "Accuracy: 0.9002293348312378\n",
      "New best model saved with accuracy: 0.9002\n"
     ]
    },
    {
     "data": {
      "text/plain": [
       "Train Ep 2:   0%|          | 0/109 [00:00<?, ?it/s]"
      ],
      "application/vnd.jupyter.widget-view+json": {
       "version_major": 2,
       "version_minor": 0,
       "model_id": "f07742125c444bd8b359a00951c729e9"
      }
     },
     "metadata": {},
     "output_type": "display_data"
    },
    {
     "data": {
      "text/plain": [
       "Eval:   0%|          | 0/14 [00:00<?, ?it/s]"
      ],
      "application/vnd.jupyter.widget-view+json": {
       "version_major": 2,
       "version_minor": 0,
       "model_id": "c3ae02de07614a7f9fa868c99b0ff1f1"
      }
     },
     "metadata": {},
     "output_type": "display_data"
    },
    {
     "name": "stdout",
     "output_type": "stream",
     "text": [
      "Accuracy: 0.9277523159980774\n",
      "New best model saved with accuracy: 0.9278\n"
     ]
    },
    {
     "data": {
      "text/plain": [
       "Train Ep 3:   0%|          | 0/109 [00:00<?, ?it/s]"
      ],
      "application/vnd.jupyter.widget-view+json": {
       "version_major": 2,
       "version_minor": 0,
       "model_id": "2ac68ced564a4f1097afc4e9b3af8a17"
      }
     },
     "metadata": {},
     "output_type": "display_data"
    },
    {
     "data": {
      "text/plain": [
       "Eval:   0%|          | 0/14 [00:00<?, ?it/s]"
      ],
      "application/vnd.jupyter.widget-view+json": {
       "version_major": 2,
       "version_minor": 0,
       "model_id": "f727befabdda4d22a6342d49d51564ca"
      }
     },
     "metadata": {},
     "output_type": "display_data"
    },
    {
     "name": "stdout",
     "output_type": "stream",
     "text": [
      "Accuracy: 0.9243119359016418\n"
     ]
    },
    {
     "data": {
      "text/plain": [
       "Train Ep 4:   0%|          | 0/109 [00:00<?, ?it/s]"
      ],
      "application/vnd.jupyter.widget-view+json": {
       "version_major": 2,
       "version_minor": 0,
       "model_id": "59b18423914d42308ac30df89b4ad41b"
      }
     },
     "metadata": {},
     "output_type": "display_data"
    },
    {
     "data": {
      "text/plain": [
       "Eval:   0%|          | 0/14 [00:00<?, ?it/s]"
      ],
      "application/vnd.jupyter.widget-view+json": {
       "version_major": 2,
       "version_minor": 0,
       "model_id": "80d6b29ae6b74c93877649984cfc5165"
      }
     },
     "metadata": {},
     "output_type": "display_data"
    },
    {
     "name": "stdout",
     "output_type": "stream",
     "text": [
      "Accuracy: 0.9288991093635559\n",
      "New best model saved with accuracy: 0.9289\n"
     ]
    },
    {
     "data": {
      "text/plain": [
       "Train Ep 5:   0%|          | 0/109 [00:00<?, ?it/s]"
      ],
      "application/vnd.jupyter.widget-view+json": {
       "version_major": 2,
       "version_minor": 0,
       "model_id": "4e40b72f58154247a2401ed2de6bf26d"
      }
     },
     "metadata": {},
     "output_type": "display_data"
    },
    {
     "data": {
      "text/plain": [
       "Eval:   0%|          | 0/14 [00:00<?, ?it/s]"
      ],
      "application/vnd.jupyter.widget-view+json": {
       "version_major": 2,
       "version_minor": 0,
       "model_id": "5385c96613694abea9a7219f13ecb5df"
      }
     },
     "metadata": {},
     "output_type": "display_data"
    },
    {
     "name": "stdout",
     "output_type": "stream",
     "text": [
      "Accuracy: 0.9231651425361633\n"
     ]
    },
    {
     "data": {
      "text/plain": [
       "Train Ep 6:   0%|          | 0/109 [00:00<?, ?it/s]"
      ],
      "application/vnd.jupyter.widget-view+json": {
       "version_major": 2,
       "version_minor": 0,
       "model_id": "bb5e3b9d8af140678cb13c06832a3d23"
      }
     },
     "metadata": {},
     "output_type": "display_data"
    },
    {
     "data": {
      "text/plain": [
       "Eval:   0%|          | 0/14 [00:00<?, ?it/s]"
      ],
      "application/vnd.jupyter.widget-view+json": {
       "version_major": 2,
       "version_minor": 0,
       "model_id": "53de0dbd572b4888a4e0bb97960c7c57"
      }
     },
     "metadata": {},
     "output_type": "display_data"
    },
    {
     "name": "stdout",
     "output_type": "stream",
     "text": [
      "Accuracy: 0.9231651425361633\n"
     ]
    },
    {
     "data": {
      "text/plain": [
       "Train Ep 7:   0%|          | 0/109 [00:00<?, ?it/s]"
      ],
      "application/vnd.jupyter.widget-view+json": {
       "version_major": 2,
       "version_minor": 0,
       "model_id": "c9da8a8b73704eec9aef0253c26d8158"
      }
     },
     "metadata": {},
     "output_type": "display_data"
    },
    {
     "data": {
      "text/plain": [
       "Eval:   0%|          | 0/14 [00:00<?, ?it/s]"
      ],
      "application/vnd.jupyter.widget-view+json": {
       "version_major": 2,
       "version_minor": 0,
       "model_id": "e4afb235f4574f918fca7ee50a02080b"
      }
     },
     "metadata": {},
     "output_type": "display_data"
    },
    {
     "name": "stdout",
     "output_type": "stream",
     "text": [
      "Accuracy: 0.9105504751205444\n"
     ]
    },
    {
     "data": {
      "text/plain": [
       "Train Ep 8:   0%|          | 0/109 [00:00<?, ?it/s]"
      ],
      "application/vnd.jupyter.widget-view+json": {
       "version_major": 2,
       "version_minor": 0,
       "model_id": "7f1791604c52484ba5cd20e526f84055"
      }
     },
     "metadata": {},
     "output_type": "display_data"
    },
    {
     "data": {
      "text/plain": [
       "Eval:   0%|          | 0/14 [00:00<?, ?it/s]"
      ],
      "application/vnd.jupyter.widget-view+json": {
       "version_major": 2,
       "version_minor": 0,
       "model_id": "012afd75a24a4f97957289081948ae3c"
      }
     },
     "metadata": {},
     "output_type": "display_data"
    },
    {
     "name": "stdout",
     "output_type": "stream",
     "text": [
      "Accuracy: 0.9185779690742493\n"
     ]
    },
    {
     "data": {
      "text/plain": [
       "Train Ep 9:   0%|          | 0/109 [00:00<?, ?it/s]"
      ],
      "application/vnd.jupyter.widget-view+json": {
       "version_major": 2,
       "version_minor": 0,
       "model_id": "ff73a9f23f214e7280cb6e62623d9e38"
      }
     },
     "metadata": {},
     "output_type": "display_data"
    },
    {
     "data": {
      "text/plain": [
       "Eval:   0%|          | 0/14 [00:00<?, ?it/s]"
      ],
      "application/vnd.jupyter.widget-view+json": {
       "version_major": 2,
       "version_minor": 0,
       "model_id": "2d848ce0058546729c5534f6e65fda40"
      }
     },
     "metadata": {},
     "output_type": "display_data"
    },
    {
     "name": "stdout",
     "output_type": "stream",
     "text": [
      "Accuracy: 0.8841742873191833\n"
     ]
    },
    {
     "data": {
      "text/plain": [
       "Train Ep 10:   0%|          | 0/109 [00:00<?, ?it/s]"
      ],
      "application/vnd.jupyter.widget-view+json": {
       "version_major": 2,
       "version_minor": 0,
       "model_id": "d946f7059e6b4f478b8aadfd8215694d"
      }
     },
     "metadata": {},
     "output_type": "display_data"
    },
    {
     "data": {
      "text/plain": [
       "Eval:   0%|          | 0/14 [00:00<?, ?it/s]"
      ],
      "application/vnd.jupyter.widget-view+json": {
       "version_major": 2,
       "version_minor": 0,
       "model_id": "0377399eca5848bc8e62e0345e414c87"
      }
     },
     "metadata": {},
     "output_type": "display_data"
    },
    {
     "name": "stdout",
     "output_type": "stream",
     "text": [
      "Accuracy: 0.9048165082931519\n"
     ]
    }
   ],
   "execution_count": 9
  },
  {
   "cell_type": "markdown",
   "metadata": {
    "id": "eAJarNtCWoVi"
   },
   "source": [
    "# Step 5: Testing the Final Model"
   ]
  },
  {
   "cell_type": "markdown",
   "metadata": {
    "id": "PY34O9hqcyAD"
   },
   "source": [
    "## **Coding Exercises** for Step 5:\n",
    "Here, you load your best trained model from `./checkpoints/` and report the test set accuracy. **You will complete the following code blocks denoted by `TODO:`.**\n",
    "\n"
   ]
  },
  {
   "cell_type": "code",
   "metadata": {
    "id": "Xmy87rriepxY",
    "ExecuteTime": {
     "end_time": "2025-02-13T03:05:11.166581Z",
     "start_time": "2025-02-13T03:05:08.720910Z"
    }
   },
   "source": [
    "tokenizer = AutoTokenizer.from_pretrained(\"roberta-base\")\n",
    "\n",
    "# TODO: Load your best trained model from `./checkpoints/` and report the test set accuracy.\n",
    "model = AutoModelForSequenceClassification.from_pretrained(\"roberta-base\", num_labels=2)\n",
    "model.load_state_dict(torch.load('./checkpoints/best_model.pth'))\n",
    "model = model.cuda()\n",
    "\n",
    "datasets = initialize_datasets(tokenizer)\n",
    "# TODO: Load the test dataset\n",
    "test_dataloader = DataLoader(datasets['test'], batch_size=64, shuffle=False, collate_fn=SST2Dataset.collate_fn)\n",
    "\n",
    "# TODO: evaluate the model on the test set\n",
    "test_accuracy = evaluate(model, test_dataloader)\n",
    "print(f\"Test set accuracy: {test_accuracy:.4f}\")"
   ],
   "outputs": [
    {
     "name": "stderr",
     "output_type": "stream",
     "text": [
      "Some weights of RobertaForSequenceClassification were not initialized from the model checkpoint at roberta-base and are newly initialized: ['classifier.dense.bias', 'classifier.dense.weight', 'classifier.out_proj.bias', 'classifier.out_proj.weight']\n",
      "You should probably TRAIN this model on a down-stream task to be able to use it for predictions and inference.\n"
     ]
    },
    {
     "data": {
      "text/plain": [
       "Eval:   0%|          | 0/29 [00:00<?, ?it/s]"
      ],
      "application/vnd.jupyter.widget-view+json": {
       "version_major": 2,
       "version_minor": 0,
       "model_id": "d51f220909f24400999ce24d74c29f93"
      }
     },
     "metadata": {},
     "output_type": "display_data"
    },
    {
     "name": "stdout",
     "output_type": "stream",
     "text": [
      "Accuracy: 0.9412410855293274\n",
      "Test set accuracy: 0.9412\n"
     ]
    }
   ],
   "execution_count": 10
  },
  {
   "metadata": {},
   "cell_type": "markdown",
   "source": "# Further Exploration, for write-ups:"
  },
  {
   "metadata": {},
   "cell_type": "markdown",
   "source": "## 2. Plotting Training and Validation Accuracy Curves"
  },
  {
   "metadata": {
    "ExecuteTime": {
     "end_time": "2025-02-13T03:05:57.480843Z",
     "start_time": "2025-02-13T03:05:57.478212Z"
    }
   },
   "cell_type": "code",
   "source": [
    "# @ray.remote(num_gpus=1)\n",
    "def main_test(batch_size=64, learning_rate=5e-5, num_epochs=20, model_name=\"roberta-base\"):\n",
    "    tokenizer = AutoTokenizer.from_pretrained(model_name)\n",
    "    model = AutoModelForSequenceClassification.from_pretrained(model_name, num_labels=2)\n",
    "    model = model.cuda()\n",
    "    optimizer = AdamW(model.parameters(), lr=learning_rate, eps=1e-8)\n",
    "    datasets = initialize_datasets(tokenizer)\n",
    "    train_dataloader = DataLoader(datasets['train'], batch_size=batch_size, shuffle=True, collate_fn=SST2Dataset.collate_fn)\n",
    "    validation_dataloader = DataLoader(datasets['validation'], batch_size=batch_size, shuffle=False, collate_fn=SST2Dataset.collate_fn)\n",
    "\n",
    "    train_accuracies = []\n",
    "    valid_accuracies = []\n",
    "    best_acc = 0.0\n",
    "\n",
    "    for epoch in range(1, num_epochs + 1):\n",
    "        train_one_epoch(model, train_dataloader, optimizer, epoch)\n",
    "        train_acc = evaluate(model, train_dataloader)\n",
    "        valid_acc = evaluate(model, validation_dataloader)\n",
    "\n",
    "        train_accuracies.append(train_acc)\n",
    "        valid_accuracies.append(valid_acc)\n",
    "\n",
    "        if valid_acc > best_acc:\n",
    "            best_acc = valid_acc\n",
    "            torch.save(model.state_dict(), './checkpoints/best_model_2.pth')\n",
    "            print(f\"New best model saved with accuracy: {best_acc:.4f}\")\n",
    "\n",
    "    return train_accuracies, valid_accuracies\n"
   ],
   "outputs": [],
   "execution_count": 12
  },
  {
   "metadata": {
    "ExecuteTime": {
     "end_time": "2025-02-13T03:09:37.327304Z",
     "start_time": "2025-02-13T03:06:14.435771Z"
    }
   },
   "cell_type": "code",
   "source": [
    "# Run the main function with default hyperparameters\n",
    "train_acc, valid_acc = main_test()\n",
    "# future = main_test.remote()\n",
    "# train_acc, valid_acc = ray.get(future)\n",
    "\n",
    "# Plot the accuracy curves\n",
    "import matplotlib.pyplot as plt\n",
    "\n",
    "plt.figure(figsize=(10, 6))\n",
    "plt.plot(range(1, 21), train_acc, label='Training Accuracy')\n",
    "plt.plot(range(1, 21), valid_acc, label='Validation Accuracy')\n",
    "plt.xlabel('Epoch')\n",
    "plt.ylabel('Accuracy')\n",
    "plt.title('Training and Validation Accuracy Curves')\n",
    "plt.legend()\n",
    "plt.grid(True)\n",
    "plt.show()"
   ],
   "outputs": [
    {
     "name": "stderr",
     "output_type": "stream",
     "text": [
      "Some weights of RobertaForSequenceClassification were not initialized from the model checkpoint at roberta-base and are newly initialized: ['classifier.dense.bias', 'classifier.dense.weight', 'classifier.out_proj.bias', 'classifier.out_proj.weight']\n",
      "You should probably TRAIN this model on a down-stream task to be able to use it for predictions and inference.\n"
     ]
    },
    {
     "data": {
      "text/plain": [
       "Train Ep 1:   0%|          | 0/109 [00:00<?, ?it/s]"
      ],
      "application/vnd.jupyter.widget-view+json": {
       "version_major": 2,
       "version_minor": 0,
       "model_id": "8d986b3f08034d80b20d5092be8e7100"
      }
     },
     "metadata": {},
     "output_type": "display_data"
    },
    {
     "data": {
      "text/plain": [
       "Eval:   0%|          | 0/109 [00:00<?, ?it/s]"
      ],
      "application/vnd.jupyter.widget-view+json": {
       "version_major": 2,
       "version_minor": 0,
       "model_id": "0e9054a0b4844a51a62b8938dc2042b1"
      }
     },
     "metadata": {},
     "output_type": "display_data"
    },
    {
     "name": "stdout",
     "output_type": "stream",
     "text": [
      "Accuracy: 0.9544797539710999\n"
     ]
    },
    {
     "data": {
      "text/plain": [
       "Eval:   0%|          | 0/14 [00:00<?, ?it/s]"
      ],
      "application/vnd.jupyter.widget-view+json": {
       "version_major": 2,
       "version_minor": 0,
       "model_id": "b0edead99e79475584e37c1299fd9ed6"
      }
     },
     "metadata": {},
     "output_type": "display_data"
    },
    {
     "name": "stdout",
     "output_type": "stream",
     "text": [
      "Accuracy: 0.91399085521698\n",
      "New best model saved with accuracy: 0.9140\n"
     ]
    },
    {
     "data": {
      "text/plain": [
       "Train Ep 2:   0%|          | 0/109 [00:00<?, ?it/s]"
      ],
      "application/vnd.jupyter.widget-view+json": {
       "version_major": 2,
       "version_minor": 0,
       "model_id": "8309cd753c42454fbdd262328de549dc"
      }
     },
     "metadata": {},
     "output_type": "display_data"
    },
    {
     "data": {
      "text/plain": [
       "Eval:   0%|          | 0/109 [00:00<?, ?it/s]"
      ],
      "application/vnd.jupyter.widget-view+json": {
       "version_major": 2,
       "version_minor": 0,
       "model_id": "f0dc375a929c4798b1e0cc8c134a30ec"
      }
     },
     "metadata": {},
     "output_type": "display_data"
    },
    {
     "name": "stdout",
     "output_type": "stream",
     "text": [
      "Accuracy: 0.9653179049491882\n"
     ]
    },
    {
     "data": {
      "text/plain": [
       "Eval:   0%|          | 0/14 [00:00<?, ?it/s]"
      ],
      "application/vnd.jupyter.widget-view+json": {
       "version_major": 2,
       "version_minor": 0,
       "model_id": "91c80cd1a36b43ce9f9ea7b2215c52cd"
      }
     },
     "metadata": {},
     "output_type": "display_data"
    },
    {
     "name": "stdout",
     "output_type": "stream",
     "text": [
      "Accuracy: 0.9094036817550659\n"
     ]
    },
    {
     "data": {
      "text/plain": [
       "Train Ep 3:   0%|          | 0/109 [00:00<?, ?it/s]"
      ],
      "application/vnd.jupyter.widget-view+json": {
       "version_major": 2,
       "version_minor": 0,
       "model_id": "1d2bf5ba408e443bbd09449c5d760a40"
      }
     },
     "metadata": {},
     "output_type": "display_data"
    },
    {
     "data": {
      "text/plain": [
       "Eval:   0%|          | 0/109 [00:00<?, ?it/s]"
      ],
      "application/vnd.jupyter.widget-view+json": {
       "version_major": 2,
       "version_minor": 0,
       "model_id": "45adc1d1d3e74afcb38fcab43213f13d"
      }
     },
     "metadata": {},
     "output_type": "display_data"
    },
    {
     "name": "stdout",
     "output_type": "stream",
     "text": [
      "Accuracy: 0.99190753698349\n"
     ]
    },
    {
     "data": {
      "text/plain": [
       "Eval:   0%|          | 0/14 [00:00<?, ?it/s]"
      ],
      "application/vnd.jupyter.widget-view+json": {
       "version_major": 2,
       "version_minor": 0,
       "model_id": "884994ffaa224b58b5a45c5de3c1ff9a"
      }
     },
     "metadata": {},
     "output_type": "display_data"
    },
    {
     "name": "stdout",
     "output_type": "stream",
     "text": [
      "Accuracy: 0.9220183491706848\n",
      "New best model saved with accuracy: 0.9220\n"
     ]
    },
    {
     "data": {
      "text/plain": [
       "Train Ep 4:   0%|          | 0/109 [00:00<?, ?it/s]"
      ],
      "application/vnd.jupyter.widget-view+json": {
       "version_major": 2,
       "version_minor": 0,
       "model_id": "232c38c3f736403090d3d8ace5adf6af"
      }
     },
     "metadata": {},
     "output_type": "display_data"
    },
    {
     "data": {
      "text/plain": [
       "Eval:   0%|          | 0/109 [00:00<?, ?it/s]"
      ],
      "application/vnd.jupyter.widget-view+json": {
       "version_major": 2,
       "version_minor": 0,
       "model_id": "ac0ecd64e4a64173a891394860a1c599"
      }
     },
     "metadata": {},
     "output_type": "display_data"
    },
    {
     "name": "stdout",
     "output_type": "stream",
     "text": [
      "Accuracy: 0.9955202341079712\n"
     ]
    },
    {
     "data": {
      "text/plain": [
       "Eval:   0%|          | 0/14 [00:00<?, ?it/s]"
      ],
      "application/vnd.jupyter.widget-view+json": {
       "version_major": 2,
       "version_minor": 0,
       "model_id": "76559d3e29874412b529853d5b437c1a"
      }
     },
     "metadata": {},
     "output_type": "display_data"
    },
    {
     "name": "stdout",
     "output_type": "stream",
     "text": [
      "Accuracy: 0.9311926364898682\n",
      "New best model saved with accuracy: 0.9312\n"
     ]
    },
    {
     "data": {
      "text/plain": [
       "Train Ep 5:   0%|          | 0/109 [00:00<?, ?it/s]"
      ],
      "application/vnd.jupyter.widget-view+json": {
       "version_major": 2,
       "version_minor": 0,
       "model_id": "30f3a7d44f9c4fbabe144d7622c34618"
      }
     },
     "metadata": {},
     "output_type": "display_data"
    },
    {
     "data": {
      "text/plain": [
       "Eval:   0%|          | 0/109 [00:00<?, ?it/s]"
      ],
      "application/vnd.jupyter.widget-view+json": {
       "version_major": 2,
       "version_minor": 0,
       "model_id": "5871a9534c43465b83532c46becb3cc7"
      }
     },
     "metadata": {},
     "output_type": "display_data"
    },
    {
     "name": "stdout",
     "output_type": "stream",
     "text": [
      "Accuracy: 0.9968208074569702\n"
     ]
    },
    {
     "data": {
      "text/plain": [
       "Eval:   0%|          | 0/14 [00:00<?, ?it/s]"
      ],
      "application/vnd.jupyter.widget-view+json": {
       "version_major": 2,
       "version_minor": 0,
       "model_id": "27dcfec9ec7a4b72bf1098c0acefced0"
      }
     },
     "metadata": {},
     "output_type": "display_data"
    },
    {
     "name": "stdout",
     "output_type": "stream",
     "text": [
      "Accuracy: 0.9185779690742493\n"
     ]
    },
    {
     "data": {
      "text/plain": [
       "Train Ep 6:   0%|          | 0/109 [00:00<?, ?it/s]"
      ],
      "application/vnd.jupyter.widget-view+json": {
       "version_major": 2,
       "version_minor": 0,
       "model_id": "c832f5f60b724fbe9a722087461cf75e"
      }
     },
     "metadata": {},
     "output_type": "display_data"
    },
    {
     "data": {
      "text/plain": [
       "Eval:   0%|          | 0/109 [00:00<?, ?it/s]"
      ],
      "application/vnd.jupyter.widget-view+json": {
       "version_major": 2,
       "version_minor": 0,
       "model_id": "26d7a0ed3ebe479c9eed55734b4426c2"
      }
     },
     "metadata": {},
     "output_type": "display_data"
    },
    {
     "name": "stdout",
     "output_type": "stream",
     "text": [
      "Accuracy: 0.9955202341079712\n"
     ]
    },
    {
     "data": {
      "text/plain": [
       "Eval:   0%|          | 0/14 [00:00<?, ?it/s]"
      ],
      "application/vnd.jupyter.widget-view+json": {
       "version_major": 2,
       "version_minor": 0,
       "model_id": "d7144e2ed185495aa5c16c5461b28eff"
      }
     },
     "metadata": {},
     "output_type": "display_data"
    },
    {
     "name": "stdout",
     "output_type": "stream",
     "text": [
      "Accuracy: 0.9151375889778137\n"
     ]
    },
    {
     "data": {
      "text/plain": [
       "Train Ep 7:   0%|          | 0/109 [00:00<?, ?it/s]"
      ],
      "application/vnd.jupyter.widget-view+json": {
       "version_major": 2,
       "version_minor": 0,
       "model_id": "e65a9c570d4a416088358fb5149e1736"
      }
     },
     "metadata": {},
     "output_type": "display_data"
    },
    {
     "data": {
      "text/plain": [
       "Eval:   0%|          | 0/109 [00:00<?, ?it/s]"
      ],
      "application/vnd.jupyter.widget-view+json": {
       "version_major": 2,
       "version_minor": 0,
       "model_id": "d87fa3dab85043f7814785ab1bd39680"
      }
     },
     "metadata": {},
     "output_type": "display_data"
    },
    {
     "name": "stdout",
     "output_type": "stream",
     "text": [
      "Accuracy: 0.9972543120384216\n"
     ]
    },
    {
     "data": {
      "text/plain": [
       "Eval:   0%|          | 0/14 [00:00<?, ?it/s]"
      ],
      "application/vnd.jupyter.widget-view+json": {
       "version_major": 2,
       "version_minor": 0,
       "model_id": "faac9b409d484a2f84166595b094a9f5"
      }
     },
     "metadata": {},
     "output_type": "display_data"
    },
    {
     "name": "stdout",
     "output_type": "stream",
     "text": [
      "Accuracy: 0.9094036817550659\n"
     ]
    },
    {
     "data": {
      "text/plain": [
       "Train Ep 8:   0%|          | 0/109 [00:00<?, ?it/s]"
      ],
      "application/vnd.jupyter.widget-view+json": {
       "version_major": 2,
       "version_minor": 0,
       "model_id": "5012d551643f4a0da8519a68b58cb454"
      }
     },
     "metadata": {},
     "output_type": "display_data"
    },
    {
     "data": {
      "text/plain": [
       "Eval:   0%|          | 0/109 [00:00<?, ?it/s]"
      ],
      "application/vnd.jupyter.widget-view+json": {
       "version_major": 2,
       "version_minor": 0,
       "model_id": "f4df2445cdb34f049158fff84292f896"
      }
     },
     "metadata": {},
     "output_type": "display_data"
    },
    {
     "name": "stdout",
     "output_type": "stream",
     "text": [
      "Accuracy: 0.9991329312324524\n"
     ]
    },
    {
     "data": {
      "text/plain": [
       "Eval:   0%|          | 0/14 [00:00<?, ?it/s]"
      ],
      "application/vnd.jupyter.widget-view+json": {
       "version_major": 2,
       "version_minor": 0,
       "model_id": "3ca47a4ffbab41f9928c57132684ae76"
      }
     },
     "metadata": {},
     "output_type": "display_data"
    },
    {
     "name": "stdout",
     "output_type": "stream",
     "text": [
      "Accuracy: 0.9231651425361633\n"
     ]
    },
    {
     "data": {
      "text/plain": [
       "Train Ep 9:   0%|          | 0/109 [00:00<?, ?it/s]"
      ],
      "application/vnd.jupyter.widget-view+json": {
       "version_major": 2,
       "version_minor": 0,
       "model_id": "9dbc94a827fb419f862c9d0f720ffdd1"
      }
     },
     "metadata": {},
     "output_type": "display_data"
    },
    {
     "data": {
      "text/plain": [
       "Eval:   0%|          | 0/109 [00:00<?, ?it/s]"
      ],
      "application/vnd.jupyter.widget-view+json": {
       "version_major": 2,
       "version_minor": 0,
       "model_id": "89895d2858504d7e8c80ea0ffbd807de"
      }
     },
     "metadata": {},
     "output_type": "display_data"
    },
    {
     "name": "stdout",
     "output_type": "stream",
     "text": [
      "Accuracy: 1.0\n"
     ]
    },
    {
     "data": {
      "text/plain": [
       "Eval:   0%|          | 0/14 [00:00<?, ?it/s]"
      ],
      "application/vnd.jupyter.widget-view+json": {
       "version_major": 2,
       "version_minor": 0,
       "model_id": "1591ce2f6acf4f108ae0b1cd514cd175"
      }
     },
     "metadata": {},
     "output_type": "display_data"
    },
    {
     "name": "stdout",
     "output_type": "stream",
     "text": [
      "Accuracy: 0.9174311757087708\n"
     ]
    },
    {
     "data": {
      "text/plain": [
       "Train Ep 10:   0%|          | 0/109 [00:00<?, ?it/s]"
      ],
      "application/vnd.jupyter.widget-view+json": {
       "version_major": 2,
       "version_minor": 0,
       "model_id": "bad200c106fe4c7b936330727be7fb42"
      }
     },
     "metadata": {},
     "output_type": "display_data"
    },
    {
     "data": {
      "text/plain": [
       "Eval:   0%|          | 0/109 [00:00<?, ?it/s]"
      ],
      "application/vnd.jupyter.widget-view+json": {
       "version_major": 2,
       "version_minor": 0,
       "model_id": "a2afc5c41db54a5caee9828109a3eead"
      }
     },
     "metadata": {},
     "output_type": "display_data"
    },
    {
     "name": "stdout",
     "output_type": "stream",
     "text": [
      "Accuracy: 0.9965317845344543\n"
     ]
    },
    {
     "data": {
      "text/plain": [
       "Eval:   0%|          | 0/14 [00:00<?, ?it/s]"
      ],
      "application/vnd.jupyter.widget-view+json": {
       "version_major": 2,
       "version_minor": 0,
       "model_id": "dbe4b3b7a4314b48a30a1c177ba5e73b"
      }
     },
     "metadata": {},
     "output_type": "display_data"
    },
    {
     "name": "stdout",
     "output_type": "stream",
     "text": [
      "Accuracy: 0.9128440618515015\n"
     ]
    },
    {
     "data": {
      "text/plain": [
       "Train Ep 11:   0%|          | 0/109 [00:00<?, ?it/s]"
      ],
      "application/vnd.jupyter.widget-view+json": {
       "version_major": 2,
       "version_minor": 0,
       "model_id": "8ccd9d35da844e86b1269edac2b75906"
      }
     },
     "metadata": {},
     "output_type": "display_data"
    },
    {
     "data": {
      "text/plain": [
       "Eval:   0%|          | 0/109 [00:00<?, ?it/s]"
      ],
      "application/vnd.jupyter.widget-view+json": {
       "version_major": 2,
       "version_minor": 0,
       "model_id": "1a1669649c824686b926746e50352fd5"
      }
     },
     "metadata": {},
     "output_type": "display_data"
    },
    {
     "name": "stdout",
     "output_type": "stream",
     "text": [
      "Accuracy: 0.9997109770774841\n"
     ]
    },
    {
     "data": {
      "text/plain": [
       "Eval:   0%|          | 0/14 [00:00<?, ?it/s]"
      ],
      "application/vnd.jupyter.widget-view+json": {
       "version_major": 2,
       "version_minor": 0,
       "model_id": "c88f241f43fc4a5487ce5b3cde89de12"
      }
     },
     "metadata": {},
     "output_type": "display_data"
    },
    {
     "name": "stdout",
     "output_type": "stream",
     "text": [
      "Accuracy: 0.9231651425361633\n"
     ]
    },
    {
     "data": {
      "text/plain": [
       "Train Ep 12:   0%|          | 0/109 [00:00<?, ?it/s]"
      ],
      "application/vnd.jupyter.widget-view+json": {
       "version_major": 2,
       "version_minor": 0,
       "model_id": "723294fdb54945f492783c0a2f9dae55"
      }
     },
     "metadata": {},
     "output_type": "display_data"
    },
    {
     "data": {
      "text/plain": [
       "Eval:   0%|          | 0/109 [00:00<?, ?it/s]"
      ],
      "application/vnd.jupyter.widget-view+json": {
       "version_major": 2,
       "version_minor": 0,
       "model_id": "4d75a242a5a3427a8ef2fa14eb660fd0"
      }
     },
     "metadata": {},
     "output_type": "display_data"
    },
    {
     "name": "stdout",
     "output_type": "stream",
     "text": [
      "Accuracy: 0.9998555183410645\n"
     ]
    },
    {
     "data": {
      "text/plain": [
       "Eval:   0%|          | 0/14 [00:00<?, ?it/s]"
      ],
      "application/vnd.jupyter.widget-view+json": {
       "version_major": 2,
       "version_minor": 0,
       "model_id": "127c560861ff491d8060a89a0fe24636"
      }
     },
     "metadata": {},
     "output_type": "display_data"
    },
    {
     "name": "stdout",
     "output_type": "stream",
     "text": [
      "Accuracy: 0.9288991093635559\n"
     ]
    },
    {
     "data": {
      "text/plain": [
       "Train Ep 13:   0%|          | 0/109 [00:00<?, ?it/s]"
      ],
      "application/vnd.jupyter.widget-view+json": {
       "version_major": 2,
       "version_minor": 0,
       "model_id": "32fb75f99cd449e99db34772d6c75e9d"
      }
     },
     "metadata": {},
     "output_type": "display_data"
    },
    {
     "data": {
      "text/plain": [
       "Eval:   0%|          | 0/109 [00:00<?, ?it/s]"
      ],
      "application/vnd.jupyter.widget-view+json": {
       "version_major": 2,
       "version_minor": 0,
       "model_id": "3480ccf9d479478eb1475e09aaed79c8"
      }
     },
     "metadata": {},
     "output_type": "display_data"
    },
    {
     "name": "stdout",
     "output_type": "stream",
     "text": [
      "Accuracy: 1.0\n"
     ]
    },
    {
     "data": {
      "text/plain": [
       "Eval:   0%|          | 0/14 [00:00<?, ?it/s]"
      ],
      "application/vnd.jupyter.widget-view+json": {
       "version_major": 2,
       "version_minor": 0,
       "model_id": "ad6707f31ca54e4780452c787daaea16"
      }
     },
     "metadata": {},
     "output_type": "display_data"
    },
    {
     "name": "stdout",
     "output_type": "stream",
     "text": [
      "Accuracy: 0.9300458431243896\n"
     ]
    },
    {
     "data": {
      "text/plain": [
       "Train Ep 14:   0%|          | 0/109 [00:00<?, ?it/s]"
      ],
      "application/vnd.jupyter.widget-view+json": {
       "version_major": 2,
       "version_minor": 0,
       "model_id": "2762fe62176046c8b15f25faa38e4da9"
      }
     },
     "metadata": {},
     "output_type": "display_data"
    },
    {
     "data": {
      "text/plain": [
       "Eval:   0%|          | 0/109 [00:00<?, ?it/s]"
      ],
      "application/vnd.jupyter.widget-view+json": {
       "version_major": 2,
       "version_minor": 0,
       "model_id": "681ebf512524414d95d0c1cefd5e5cab"
      }
     },
     "metadata": {},
     "output_type": "display_data"
    },
    {
     "name": "stdout",
     "output_type": "stream",
     "text": [
      "Accuracy: 0.9994219541549683\n"
     ]
    },
    {
     "data": {
      "text/plain": [
       "Eval:   0%|          | 0/14 [00:00<?, ?it/s]"
      ],
      "application/vnd.jupyter.widget-view+json": {
       "version_major": 2,
       "version_minor": 0,
       "model_id": "4fdb1223caa44174a4febb3b30f9c7d1"
      }
     },
     "metadata": {},
     "output_type": "display_data"
    },
    {
     "name": "stdout",
     "output_type": "stream",
     "text": [
      "Accuracy: 0.9288991093635559\n"
     ]
    },
    {
     "data": {
      "text/plain": [
       "Train Ep 15:   0%|          | 0/109 [00:00<?, ?it/s]"
      ],
      "application/vnd.jupyter.widget-view+json": {
       "version_major": 2,
       "version_minor": 0,
       "model_id": "490b025aa0de483295719aaca4971371"
      }
     },
     "metadata": {},
     "output_type": "display_data"
    },
    {
     "data": {
      "text/plain": [
       "Eval:   0%|          | 0/109 [00:00<?, ?it/s]"
      ],
      "application/vnd.jupyter.widget-view+json": {
       "version_major": 2,
       "version_minor": 0,
       "model_id": "7aae3274189c4702b7a9569bd7c3f4e5"
      }
     },
     "metadata": {},
     "output_type": "display_data"
    },
    {
     "name": "stdout",
     "output_type": "stream",
     "text": [
      "Accuracy: 0.9988439083099365\n"
     ]
    },
    {
     "data": {
      "text/plain": [
       "Eval:   0%|          | 0/14 [00:00<?, ?it/s]"
      ],
      "application/vnd.jupyter.widget-view+json": {
       "version_major": 2,
       "version_minor": 0,
       "model_id": "0ecdd48d34574c13b5389b704fe5b21f"
      }
     },
     "metadata": {},
     "output_type": "display_data"
    },
    {
     "name": "stdout",
     "output_type": "stream",
     "text": [
      "Accuracy: 0.9208715558052063\n"
     ]
    },
    {
     "data": {
      "text/plain": [
       "Train Ep 16:   0%|          | 0/109 [00:00<?, ?it/s]"
      ],
      "application/vnd.jupyter.widget-view+json": {
       "version_major": 2,
       "version_minor": 0,
       "model_id": "2a0093e8f8cb4c1cb328f3f53587ac62"
      }
     },
     "metadata": {},
     "output_type": "display_data"
    },
    {
     "data": {
      "text/plain": [
       "Eval:   0%|          | 0/109 [00:00<?, ?it/s]"
      ],
      "application/vnd.jupyter.widget-view+json": {
       "version_major": 2,
       "version_minor": 0,
       "model_id": "20110020c16b4e76a842b58b3b04684c"
      }
     },
     "metadata": {},
     "output_type": "display_data"
    },
    {
     "name": "stdout",
     "output_type": "stream",
     "text": [
      "Accuracy: 0.9984104037284851\n"
     ]
    },
    {
     "data": {
      "text/plain": [
       "Eval:   0%|          | 0/14 [00:00<?, ?it/s]"
      ],
      "application/vnd.jupyter.widget-view+json": {
       "version_major": 2,
       "version_minor": 0,
       "model_id": "16758039925f4ca3b0df55d70e811e3d"
      }
     },
     "metadata": {},
     "output_type": "display_data"
    },
    {
     "name": "stdout",
     "output_type": "stream",
     "text": [
      "Accuracy: 0.9197247624397278\n"
     ]
    },
    {
     "data": {
      "text/plain": [
       "Train Ep 17:   0%|          | 0/109 [00:00<?, ?it/s]"
      ],
      "application/vnd.jupyter.widget-view+json": {
       "version_major": 2,
       "version_minor": 0,
       "model_id": "eb7b010495aa4606ba381b59786bcf1a"
      }
     },
     "metadata": {},
     "output_type": "display_data"
    },
    {
     "data": {
      "text/plain": [
       "Eval:   0%|          | 0/109 [00:00<?, ?it/s]"
      ],
      "application/vnd.jupyter.widget-view+json": {
       "version_major": 2,
       "version_minor": 0,
       "model_id": "11faa1ababb24cb893edef4fefc3becc"
      }
     },
     "metadata": {},
     "output_type": "display_data"
    },
    {
     "name": "stdout",
     "output_type": "stream",
     "text": [
      "Accuracy: 0.9997109770774841\n"
     ]
    },
    {
     "data": {
      "text/plain": [
       "Eval:   0%|          | 0/14 [00:00<?, ?it/s]"
      ],
      "application/vnd.jupyter.widget-view+json": {
       "version_major": 2,
       "version_minor": 0,
       "model_id": "81f51f6e68824bbc972719c87db3a278"
      }
     },
     "metadata": {},
     "output_type": "display_data"
    },
    {
     "name": "stdout",
     "output_type": "stream",
     "text": [
      "Accuracy: 0.9220183491706848\n"
     ]
    },
    {
     "data": {
      "text/plain": [
       "Train Ep 18:   0%|          | 0/109 [00:00<?, ?it/s]"
      ],
      "application/vnd.jupyter.widget-view+json": {
       "version_major": 2,
       "version_minor": 0,
       "model_id": "734a729b330048089de9d5eaf2cb26ec"
      }
     },
     "metadata": {},
     "output_type": "display_data"
    },
    {
     "data": {
      "text/plain": [
       "Eval:   0%|          | 0/109 [00:00<?, ?it/s]"
      ],
      "application/vnd.jupyter.widget-view+json": {
       "version_major": 2,
       "version_minor": 0,
       "model_id": "16dc1040ee3c4e7e8f3654882d00450c"
      }
     },
     "metadata": {},
     "output_type": "display_data"
    },
    {
     "name": "stdout",
     "output_type": "stream",
     "text": [
      "Accuracy: 0.9992774724960327\n"
     ]
    },
    {
     "data": {
      "text/plain": [
       "Eval:   0%|          | 0/14 [00:00<?, ?it/s]"
      ],
      "application/vnd.jupyter.widget-view+json": {
       "version_major": 2,
       "version_minor": 0,
       "model_id": "6639758adc2648f890b0d9bc2e8193dd"
      }
     },
     "metadata": {},
     "output_type": "display_data"
    },
    {
     "name": "stdout",
     "output_type": "stream",
     "text": [
      "Accuracy: 0.9266055226325989\n"
     ]
    },
    {
     "data": {
      "text/plain": [
       "Train Ep 19:   0%|          | 0/109 [00:00<?, ?it/s]"
      ],
      "application/vnd.jupyter.widget-view+json": {
       "version_major": 2,
       "version_minor": 0,
       "model_id": "7a77de37665a47cd96f7c7fbbe5e4915"
      }
     },
     "metadata": {},
     "output_type": "display_data"
    },
    {
     "data": {
      "text/plain": [
       "Eval:   0%|          | 0/109 [00:00<?, ?it/s]"
      ],
      "application/vnd.jupyter.widget-view+json": {
       "version_major": 2,
       "version_minor": 0,
       "model_id": "774fa31d64d14565915514c475982cb4"
      }
     },
     "metadata": {},
     "output_type": "display_data"
    },
    {
     "name": "stdout",
     "output_type": "stream",
     "text": [
      "Accuracy: 0.994508683681488\n"
     ]
    },
    {
     "data": {
      "text/plain": [
       "Eval:   0%|          | 0/14 [00:00<?, ?it/s]"
      ],
      "application/vnd.jupyter.widget-view+json": {
       "version_major": 2,
       "version_minor": 0,
       "model_id": "3805dbe2659345108e2d0ac52df0ad39"
      }
     },
     "metadata": {},
     "output_type": "display_data"
    },
    {
     "name": "stdout",
     "output_type": "stream",
     "text": [
      "Accuracy: 0.9071100950241089\n"
     ]
    },
    {
     "data": {
      "text/plain": [
       "Train Ep 20:   0%|          | 0/109 [00:00<?, ?it/s]"
      ],
      "application/vnd.jupyter.widget-view+json": {
       "version_major": 2,
       "version_minor": 0,
       "model_id": "2ecff1a1fa7841ecbcd36b793d580650"
      }
     },
     "metadata": {},
     "output_type": "display_data"
    },
    {
     "data": {
      "text/plain": [
       "Eval:   0%|          | 0/109 [00:00<?, ?it/s]"
      ],
      "application/vnd.jupyter.widget-view+json": {
       "version_major": 2,
       "version_minor": 0,
       "model_id": "e8caa277b971464c9abb979899daa1fb"
      }
     },
     "metadata": {},
     "output_type": "display_data"
    },
    {
     "name": "stdout",
     "output_type": "stream",
     "text": [
      "Accuracy: 0.9984104037284851\n"
     ]
    },
    {
     "data": {
      "text/plain": [
       "Eval:   0%|          | 0/14 [00:00<?, ?it/s]"
      ],
      "application/vnd.jupyter.widget-view+json": {
       "version_major": 2,
       "version_minor": 0,
       "model_id": "6fda391f144f4fa1bc8c365d9e567940"
      }
     },
     "metadata": {},
     "output_type": "display_data"
    },
    {
     "name": "stdout",
     "output_type": "stream",
     "text": [
      "Accuracy: 0.9036697149276733\n"
     ]
    },
    {
     "data": {
      "text/plain": [
       "<Figure size 1000x600 with 1 Axes>"
      ],
      "image/png": "[encoded data removed]"
     },
     "metadata": {},
     "output_type": "display_data"
    }
   ],
   "execution_count": 13
  },
  {
   "metadata": {},
   "cell_type": "markdown",
   "source": "## 3. Describing the Behavior of Training and Validation Curves\n"
  },
  {
   "metadata": {
    "ExecuteTime": {
     "end_time": "2025-02-13T03:09:43.646720Z",
     "start_time": "2025-02-13T03:09:43.644286Z"
    }
   },
   "cell_type": "code",
   "source": [
    "best_train_epoch = train_acc.index(max(train_acc)) + 1\n",
    "best_train_acc = max(train_acc)\n",
    "best_valid_epoch = valid_acc.index(max(valid_acc)) + 1\n",
    "best_valid_acc = max(valid_acc)\n",
    "\n",
    "print(f\"Best training accuracy: {best_train_acc:.4f} at epoch {best_train_epoch}\")\n",
    "print(f\"Best validation accuracy: {best_valid_acc:.4f} at epoch {best_valid_epoch}\")\n"
   ],
   "outputs": [
    {
     "name": "stdout",
     "output_type": "stream",
     "text": [
      "Best training accuracy: 1.0000 at epoch 9\n",
      "Best validation accuracy: 0.9312 at epoch 4\n"
     ]
    }
   ],
   "execution_count": 14
  },
  {
   "metadata": {},
   "cell_type": "markdown",
   "source": "Looking at the accuracy graphs, it is clear that model is overfitting to training data after epoch 5, giving no increase in accuracy in next epochs, with some random fluctutions. It is even better confirmed with the best validation accuracy being achieved at epoch 4."
  },
  {
   "metadata": {
    "ExecuteTime": {
     "end_time": "2025-02-13T02:49:10.705052Z",
     "start_time": "2025-02-13T02:49:10.703455Z"
    }
   },
   "cell_type": "code",
   "source": [
    "# PERSONAL EXPERIMENTS:\n",
    "# import ray\n",
    "# ray.init(address=\"ray://192.168.1.21:10001\")\n",
    "# print(ray.nodes())\n",
    "\n",
    "# @ray.remote\n",
    "# def train_model():\n",
    "#     import time\n",
    "#     time.sleep(5)  # Simulating training\n",
    "#     return \"Training completed on remote machine\"\n",
    "#\n",
    "# # Run training on the remote node\n",
    "# future = train_model.remote()\n",
    "# print(ray.get(future))\n"
   ],
   "outputs": [],
   "execution_count": 19
  },
  {
   "metadata": {},
   "cell_type": "markdown",
   "source": "## 4. Experimenting with Different Hyperparameters"
  },
  {
   "metadata": {
    "ExecuteTime": {
     "end_time": "2025-02-13T03:41:55.177384Z",
     "start_time": "2025-02-13T03:32:57.019993Z"
    }
   },
   "cell_type": "code",
   "source": [
    "# same main_test, but with early stopping to save some time\n",
    "def main_test(batch_size=64, learning_rate=5e-5, num_epochs=20, model_name=\"roberta-base\", patience=4, checkpoint_path=\"./checkpoints/best_model_4.pth\"):\n",
    "    tokenizer = AutoTokenizer.from_pretrained(model_name)\n",
    "    model = AutoModelForSequenceClassification.from_pretrained(model_name, num_labels=2)\n",
    "    model = model.cuda()\n",
    "    optimizer = AdamW(model.parameters(), lr=learning_rate, eps=1e-8)\n",
    "    datasets = initialize_datasets(tokenizer)\n",
    "    train_dataloader = DataLoader(datasets['train'], batch_size=batch_size, shuffle=True, collate_fn=SST2Dataset.collate_fn)\n",
    "    validation_dataloader = DataLoader(datasets['validation'], batch_size=batch_size, shuffle=False, collate_fn=SST2Dataset.collate_fn)\n",
    "\n",
    "    train_accuracies = []\n",
    "    valid_accuracies = []\n",
    "    best_acc = 0.0\n",
    "    epochs_without_improvement = 0\n",
    "\n",
    "    for epoch in range(1, num_epochs + 1):\n",
    "        train_one_epoch(model, train_dataloader, optimizer, epoch)\n",
    "        train_acc = evaluate(model, train_dataloader)\n",
    "        valid_acc = evaluate(model, validation_dataloader)\n",
    "\n",
    "        train_accuracies.append(train_acc)\n",
    "        valid_accuracies.append(valid_acc)\n",
    "\n",
    "        if valid_acc > best_acc:\n",
    "            best_acc = valid_acc\n",
    "            torch.save(model.state_dict(), checkpoint_path)\n",
    "            print(f\"New best model saved with accuracy: {best_acc:.4f}\")\n",
    "            epochs_without_improvement = 0\n",
    "        else:\n",
    "            epochs_without_improvement += 1\n",
    "\n",
    "        if epochs_without_improvement >= patience:\n",
    "            print(f\"Early stopping triggered. No improvement for {patience} epochs.\")\n",
    "            break\n",
    "\n",
    "    return train_accuracies, valid_accuracies\n",
    "\n",
    "\n",
    "def hyperparameter_search():\n",
    "    hyperparameters = [\n",
    "        {'batch_size': 5, 'learning_rate': 1e-6, 'num_epochs': 20, 'checkpoint_path': './checkpoints/best_model_4_1.pth'},\n",
    "        {'batch_size': 20, 'learning_rate': 5e-5, 'num_epochs': 20, 'checkpoint_path': './checkpoints/best_model_4_2.pth'},\n",
    "        {'batch_size': 100, 'learning_rate': 1e-4, 'num_epochs': 20, 'checkpoint_path': './checkpoints/best_model_4_3.pth'},\n",
    "    ]\n",
    "\n",
    "    best_valid_acc = 0\n",
    "    best_params = None\n",
    "\n",
    "    for params in hyperparameters:\n",
    "        print(f\"Training with parameters: {params}\")\n",
    "        _, valid_acc = main_test(**params)\n",
    "        final_valid_acc = valid_acc[-1]\n",
    "\n",
    "        if final_valid_acc > best_valid_acc:\n",
    "            best_valid_acc = final_valid_acc\n",
    "            best_params = params\n",
    "\n",
    "    return best_params, best_valid_acc\n",
    "\n",
    "best_params, best_acc = hyperparameter_search()\n",
    "print(f\"Best hyperparameters: {best_params}\")\n",
    "print(f\"Best validation accuracy: {best_acc:.4f}\")\n",
    "\n",
    "tokenizer = AutoTokenizer.from_pretrained(\"roberta-base\")\n",
    "model = AutoModelForSequenceClassification.from_pretrained(\"roberta-base\", num_labels=2)\n",
    "model.load_state_dict(torch.load('./checkpoints/best_model_4_1.pth'))\n",
    "model = model.cuda()\n",
    "datasets = initialize_datasets(tokenizer)\n",
    "\n",
    "train_dataloader = DataLoader(datasets['train'], batch_size=best_params['batch_size'], shuffle=False, collate_fn=SST2Dataset.collate_fn)\n",
    "valid_dataloader = DataLoader(datasets['validation'], batch_size=best_params['batch_size'], shuffle=False, collate_fn=SST2Dataset.collate_fn)\n",
    "test_dataloader = DataLoader(datasets['test'], batch_size=best_params['batch_size'], shuffle=False, collate_fn=SST2Dataset.collate_fn)\n",
    "\n",
    "train_accuracy = evaluate(model, train_dataloader)\n",
    "valid_accuracy = evaluate(model, valid_dataloader)\n",
    "test_accuracy = evaluate(model, test_dataloader)\n",
    "\n",
    "print(f\"model 4-1 results: {test_accuracy:.4f}\")\n",
    "\n",
    "tokenizer = AutoTokenizer.from_pretrained(\"roberta-base\")\n",
    "model = AutoModelForSequenceClassification.from_pretrained(\"roberta-base\", num_labels=2)\n",
    "model.load_state_dict(torch.load('./checkpoints/best_model_4_2.pth'))\n",
    "model = model.cuda()\n",
    "datasets = initialize_datasets(tokenizer)\n",
    "\n",
    "train_dataloader = DataLoader(datasets['train'], batch_size=best_params['batch_size'], shuffle=False, collate_fn=SST2Dataset.collate_fn)\n",
    "valid_dataloader = DataLoader(datasets['validation'], batch_size=best_params['batch_size'], shuffle=False, collate_fn=SST2Dataset.collate_fn)\n",
    "test_dataloader = DataLoader(datasets['test'], batch_size=best_params['batch_size'], shuffle=False, collate_fn=SST2Dataset.collate_fn)\n",
    "\n",
    "train_accuracy = evaluate(model, train_dataloader)\n",
    "valid_accuracy = evaluate(model, valid_dataloader)\n",
    "test_accuracy = evaluate(model, test_dataloader)\n",
    "\n",
    "print(f\"model 4-2 results: {test_accuracy:.4f}\")\n",
    "\n",
    "tokenizer = AutoTokenizer.from_pretrained(\"roberta-base\")\n",
    "model = AutoModelForSequenceClassification.from_pretrained(\"roberta-base\", num_labels=2)\n",
    "model.load_state_dict(torch.load('./checkpoints/best_model_4_3.pth'))\n",
    "model = model.cuda()\n",
    "datasets = initialize_datasets(tokenizer)\n",
    "\n",
    "train_dataloader = DataLoader(datasets['train'], batch_size=best_params['batch_size'], shuffle=False, collate_fn=SST2Dataset.collate_fn)\n",
    "valid_dataloader = DataLoader(datasets['validation'], batch_size=best_params['batch_size'], shuffle=False, collate_fn=SST2Dataset.collate_fn)\n",
    "test_dataloader = DataLoader(datasets['test'], batch_size=best_params['batch_size'], shuffle=False, collate_fn=SST2Dataset.collate_fn)\n",
    "\n",
    "train_accuracy = evaluate(model, train_dataloader)\n",
    "valid_accuracy = evaluate(model, valid_dataloader)\n",
    "test_accuracy = evaluate(model, test_dataloader)\n",
    "\n",
    "print(f\"model 4-3 results: {test_accuracy:.4f}\")\n",
    "\n",
    "# Note: Describe your strategy for hyperparameter tuning in your write-up."
   ],
   "outputs": [
    {
     "name": "stdout",
     "output_type": "stream",
     "text": [
      "Training with parameters: {'batch_size': 5, 'learning_rate': 1e-06, 'num_epochs': 20, 'checkpoint_path': './checkpoints/best_model_4_1.pth'}\n"
     ]
    },
    {
     "name": "stderr",
     "output_type": "stream",
     "text": [
      "Some weights of RobertaForSequenceClassification were not initialized from the model checkpoint at roberta-base and are newly initialized: ['classifier.dense.bias', 'classifier.dense.weight', 'classifier.out_proj.bias', 'classifier.out_proj.weight']\n",
      "You should probably TRAIN this model on a down-stream task to be able to use it for predictions and inference.\n"
     ]
    },
    {
     "data": {
      "text/plain": [
       "Train Ep 1:   0%|          | 0/1384 [00:00<?, ?it/s]"
      ],
      "application/vnd.jupyter.widget-view+json": {
       "version_major": 2,
       "version_minor": 0,
       "model_id": "3335058195024352bcf29418a8eb964c"
      }
     },
     "metadata": {},
     "output_type": "display_data"
    },
    {
     "data": {
      "text/plain": [
       "Eval:   0%|          | 0/1384 [00:00<?, ?it/s]"
      ],
      "application/vnd.jupyter.widget-view+json": {
       "version_major": 2,
       "version_minor": 0,
       "model_id": "3dfadf6ac53746d2897644f536b311a3"
      }
     },
     "metadata": {},
     "output_type": "display_data"
    },
    {
     "name": "stdout",
     "output_type": "stream",
     "text": [
      "Accuracy: 0.9297688007354736\n"
     ]
    },
    {
     "data": {
      "text/plain": [
       "Eval:   0%|          | 0/175 [00:00<?, ?it/s]"
      ],
      "application/vnd.jupyter.widget-view+json": {
       "version_major": 2,
       "version_minor": 0,
       "model_id": "c81d5d86ffd0428b954b3c47d7b49e0d"
      }
     },
     "metadata": {},
     "output_type": "display_data"
    },
    {
     "name": "stdout",
     "output_type": "stream",
     "text": [
      "Accuracy: 0.9025229215621948\n",
      "New best model saved with accuracy: 0.9025\n"
     ]
    },
    {
     "data": {
      "text/plain": [
       "Train Ep 2:   0%|          | 0/1384 [00:00<?, ?it/s]"
      ],
      "application/vnd.jupyter.widget-view+json": {
       "version_major": 2,
       "version_minor": 0,
       "model_id": "9d3bbbad75b344b19802eef3254a96aa"
      }
     },
     "metadata": {},
     "output_type": "display_data"
    },
    {
     "data": {
      "text/plain": [
       "Eval:   0%|          | 0/1384 [00:00<?, ?it/s]"
      ],
      "application/vnd.jupyter.widget-view+json": {
       "version_major": 2,
       "version_minor": 0,
       "model_id": "2d4a4737971f4f038e64c45632f16b98"
      }
     },
     "metadata": {},
     "output_type": "display_data"
    },
    {
     "name": "stdout",
     "output_type": "stream",
     "text": [
      "Accuracy: 0.9463872909545898\n"
     ]
    },
    {
     "data": {
      "text/plain": [
       "Eval:   0%|          | 0/175 [00:00<?, ?it/s]"
      ],
      "application/vnd.jupyter.widget-view+json": {
       "version_major": 2,
       "version_minor": 0,
       "model_id": "51536e5684ce4e73ae713844f7d4c632"
      }
     },
     "metadata": {},
     "output_type": "display_data"
    },
    {
     "name": "stdout",
     "output_type": "stream",
     "text": [
      "Accuracy: 0.9162843823432922\n",
      "New best model saved with accuracy: 0.9163\n"
     ]
    },
    {
     "data": {
      "text/plain": [
       "Train Ep 3:   0%|          | 0/1384 [00:00<?, ?it/s]"
      ],
      "application/vnd.jupyter.widget-view+json": {
       "version_major": 2,
       "version_minor": 0,
       "model_id": "4ee731b213c44ead9ccb728e3d7ffff4"
      }
     },
     "metadata": {},
     "output_type": "display_data"
    },
    {
     "data": {
      "text/plain": [
       "Eval:   0%|          | 0/1384 [00:00<?, ?it/s]"
      ],
      "application/vnd.jupyter.widget-view+json": {
       "version_major": 2,
       "version_minor": 0,
       "model_id": "69230afafc254a0f80954b1fa1430094"
      }
     },
     "metadata": {},
     "output_type": "display_data"
    },
    {
     "name": "stdout",
     "output_type": "stream",
     "text": [
      "Accuracy: 0.9606936573982239\n"
     ]
    },
    {
     "data": {
      "text/plain": [
       "Eval:   0%|          | 0/175 [00:00<?, ?it/s]"
      ],
      "application/vnd.jupyter.widget-view+json": {
       "version_major": 2,
       "version_minor": 0,
       "model_id": "be72627ae2824c209050a6bd46cebb05"
      }
     },
     "metadata": {},
     "output_type": "display_data"
    },
    {
     "name": "stdout",
     "output_type": "stream",
     "text": [
      "Accuracy: 0.9254587292671204\n",
      "New best model saved with accuracy: 0.9255\n"
     ]
    },
    {
     "data": {
      "text/plain": [
       "Train Ep 4:   0%|          | 0/1384 [00:00<?, ?it/s]"
      ],
      "application/vnd.jupyter.widget-view+json": {
       "version_major": 2,
       "version_minor": 0,
       "model_id": "3994fd8d9b7a4b0a87f84c0a6a1b3174"
      }
     },
     "metadata": {},
     "output_type": "display_data"
    },
    {
     "data": {
      "text/plain": [
       "Eval:   0%|          | 0/1384 [00:00<?, ?it/s]"
      ],
      "application/vnd.jupyter.widget-view+json": {
       "version_major": 2,
       "version_minor": 0,
       "model_id": "bc316c5be5834b04807d71926417b350"
      }
     },
     "metadata": {},
     "output_type": "display_data"
    },
    {
     "name": "stdout",
     "output_type": "stream",
     "text": [
      "Accuracy: 0.9715318083763123\n"
     ]
    },
    {
     "data": {
      "text/plain": [
       "Eval:   0%|          | 0/175 [00:00<?, ?it/s]"
      ],
      "application/vnd.jupyter.widget-view+json": {
       "version_major": 2,
       "version_minor": 0,
       "model_id": "3040ca42d5e64f1fb009643b3d76b908"
      }
     },
     "metadata": {},
     "output_type": "display_data"
    },
    {
     "name": "stdout",
     "output_type": "stream",
     "text": [
      "Accuracy: 0.9266055226325989\n",
      "New best model saved with accuracy: 0.9266\n"
     ]
    },
    {
     "data": {
      "text/plain": [
       "Train Ep 5:   0%|          | 0/1384 [00:00<?, ?it/s]"
      ],
      "application/vnd.jupyter.widget-view+json": {
       "version_major": 2,
       "version_minor": 0,
       "model_id": "39c4211fbb9a473eb3fc028d9bfe0f2f"
      }
     },
     "metadata": {},
     "output_type": "display_data"
    },
    {
     "data": {
      "text/plain": [
       "Eval:   0%|          | 0/1384 [00:00<?, ?it/s]"
      ],
      "application/vnd.jupyter.widget-view+json": {
       "version_major": 2,
       "version_minor": 0,
       "model_id": "d2a428e40780408cbd931a47dee88a65"
      }
     },
     "metadata": {},
     "output_type": "display_data"
    },
    {
     "name": "stdout",
     "output_type": "stream",
     "text": [
      "Accuracy: 0.9791907668113708\n"
     ]
    },
    {
     "data": {
      "text/plain": [
       "Eval:   0%|          | 0/175 [00:00<?, ?it/s]"
      ],
      "application/vnd.jupyter.widget-view+json": {
       "version_major": 2,
       "version_minor": 0,
       "model_id": "e13d431ec0464db3bea57a760b4b5d5f"
      }
     },
     "metadata": {},
     "output_type": "display_data"
    },
    {
     "name": "stdout",
     "output_type": "stream",
     "text": [
      "Accuracy: 0.9277523159980774\n",
      "New best model saved with accuracy: 0.9278\n"
     ]
    },
    {
     "data": {
      "text/plain": [
       "Train Ep 6:   0%|          | 0/1384 [00:00<?, ?it/s]"
      ],
      "application/vnd.jupyter.widget-view+json": {
       "version_major": 2,
       "version_minor": 0,
       "model_id": "c13d604569f949f7a3b69981bbfcd733"
      }
     },
     "metadata": {},
     "output_type": "display_data"
    },
    {
     "data": {
      "text/plain": [
       "Eval:   0%|          | 0/1384 [00:00<?, ?it/s]"
      ],
      "application/vnd.jupyter.widget-view+json": {
       "version_major": 2,
       "version_minor": 0,
       "model_id": "586b3d4ccaca46d9bb66af422c0dc687"
      }
     },
     "metadata": {},
     "output_type": "display_data"
    },
    {
     "name": "stdout",
     "output_type": "stream",
     "text": [
      "Accuracy: 0.9819363951683044\n"
     ]
    },
    {
     "data": {
      "text/plain": [
       "Eval:   0%|          | 0/175 [00:00<?, ?it/s]"
      ],
      "application/vnd.jupyter.widget-view+json": {
       "version_major": 2,
       "version_minor": 0,
       "model_id": "7b4d7771cc8a471791b96520a8bffc7c"
      }
     },
     "metadata": {},
     "output_type": "display_data"
    },
    {
     "name": "stdout",
     "output_type": "stream",
     "text": [
      "Accuracy: 0.9243119359016418\n"
     ]
    },
    {
     "data": {
      "text/plain": [
       "Train Ep 7:   0%|          | 0/1384 [00:00<?, ?it/s]"
      ],
      "application/vnd.jupyter.widget-view+json": {
       "version_major": 2,
       "version_minor": 0,
       "model_id": "da36cb64fa314d84b590457dcb241b08"
      }
     },
     "metadata": {},
     "output_type": "display_data"
    },
    {
     "data": {
      "text/plain": [
       "Eval:   0%|          | 0/1384 [00:00<?, ?it/s]"
      ],
      "application/vnd.jupyter.widget-view+json": {
       "version_major": 2,
       "version_minor": 0,
       "model_id": "21d7f3f89c5e4b93a83377b4695033d4"
      }
     },
     "metadata": {},
     "output_type": "display_data"
    },
    {
     "name": "stdout",
     "output_type": "stream",
     "text": [
      "Accuracy: 0.9884393215179443\n"
     ]
    },
    {
     "data": {
      "text/plain": [
       "Eval:   0%|          | 0/175 [00:00<?, ?it/s]"
      ],
      "application/vnd.jupyter.widget-view+json": {
       "version_major": 2,
       "version_minor": 0,
       "model_id": "0e81fa15474c4a2fbc562985d3d69bba"
      }
     },
     "metadata": {},
     "output_type": "display_data"
    },
    {
     "name": "stdout",
     "output_type": "stream",
     "text": [
      "Accuracy: 0.9254587292671204\n"
     ]
    },
    {
     "data": {
      "text/plain": [
       "Train Ep 8:   0%|          | 0/1384 [00:00<?, ?it/s]"
      ],
      "application/vnd.jupyter.widget-view+json": {
       "version_major": 2,
       "version_minor": 0,
       "model_id": "df8209f7a3f242029155451eba1a59d8"
      }
     },
     "metadata": {},
     "output_type": "display_data"
    },
    {
     "data": {
      "text/plain": [
       "Eval:   0%|          | 0/1384 [00:00<?, ?it/s]"
      ],
      "application/vnd.jupyter.widget-view+json": {
       "version_major": 2,
       "version_minor": 0,
       "model_id": "67ccc03873c54598a18db7616f419e72"
      }
     },
     "metadata": {},
     "output_type": "display_data"
    },
    {
     "name": "stdout",
     "output_type": "stream",
     "text": [
      "Accuracy: 0.9913294911384583\n"
     ]
    },
    {
     "data": {
      "text/plain": [
       "Eval:   0%|          | 0/175 [00:00<?, ?it/s]"
      ],
      "application/vnd.jupyter.widget-view+json": {
       "version_major": 2,
       "version_minor": 0,
       "model_id": "26c0dbe9ef20490db5a80f264ffb47d3"
      }
     },
     "metadata": {},
     "output_type": "display_data"
    },
    {
     "name": "stdout",
     "output_type": "stream",
     "text": [
      "Accuracy: 0.9266055226325989\n"
     ]
    },
    {
     "data": {
      "text/plain": [
       "Train Ep 9:   0%|          | 0/1384 [00:00<?, ?it/s]"
      ],
      "application/vnd.jupyter.widget-view+json": {
       "version_major": 2,
       "version_minor": 0,
       "model_id": "9f327c70205342238cbc9839e271d3d9"
      }
     },
     "metadata": {},
     "output_type": "display_data"
    },
    {
     "data": {
      "text/plain": [
       "Eval:   0%|          | 0/1384 [00:00<?, ?it/s]"
      ],
      "application/vnd.jupyter.widget-view+json": {
       "version_major": 2,
       "version_minor": 0,
       "model_id": "d1f877c99ba047778cd1d7be9c70871a"
      }
     },
     "metadata": {},
     "output_type": "display_data"
    },
    {
     "name": "stdout",
     "output_type": "stream",
     "text": [
      "Accuracy: 0.9950867295265198\n"
     ]
    },
    {
     "data": {
      "text/plain": [
       "Eval:   0%|          | 0/175 [00:00<?, ?it/s]"
      ],
      "application/vnd.jupyter.widget-view+json": {
       "version_major": 2,
       "version_minor": 0,
       "model_id": "1f173963b1074e46865d34989e4b80af"
      }
     },
     "metadata": {},
     "output_type": "display_data"
    },
    {
     "name": "stdout",
     "output_type": "stream",
     "text": [
      "Accuracy: 0.9277523159980774\n",
      "Early stopping triggered. No improvement for 4 epochs.\n",
      "Training with parameters: {'batch_size': 20, 'learning_rate': 5e-05, 'num_epochs': 20, 'checkpoint_path': './checkpoints/best_model_4_2.pth'}\n"
     ]
    },
    {
     "name": "stderr",
     "output_type": "stream",
     "text": [
      "Some weights of RobertaForSequenceClassification were not initialized from the model checkpoint at roberta-base and are newly initialized: ['classifier.dense.bias', 'classifier.dense.weight', 'classifier.out_proj.bias', 'classifier.out_proj.weight']\n",
      "You should probably TRAIN this model on a down-stream task to be able to use it for predictions and inference.\n"
     ]
    },
    {
     "data": {
      "text/plain": [
       "Train Ep 1:   0%|          | 0/346 [00:00<?, ?it/s]"
      ],
      "application/vnd.jupyter.widget-view+json": {
       "version_major": 2,
       "version_minor": 0,
       "model_id": "8b52b7549a4a4976a9245c9b7537ffed"
      }
     },
     "metadata": {},
     "output_type": "display_data"
    },
    {
     "data": {
      "text/plain": [
       "Eval:   0%|          | 0/346 [00:00<?, ?it/s]"
      ],
      "application/vnd.jupyter.widget-view+json": {
       "version_major": 2,
       "version_minor": 0,
       "model_id": "005a1712ca854d558ba00f748235e797"
      }
     },
     "metadata": {},
     "output_type": "display_data"
    },
    {
     "name": "stdout",
     "output_type": "stream",
     "text": [
      "Accuracy: 0.9543352723121643\n"
     ]
    },
    {
     "data": {
      "text/plain": [
       "Eval:   0%|          | 0/44 [00:00<?, ?it/s]"
      ],
      "application/vnd.jupyter.widget-view+json": {
       "version_major": 2,
       "version_minor": 0,
       "model_id": "c5d7de46b73f4c28ac468bf46d2d90fb"
      }
     },
     "metadata": {},
     "output_type": "display_data"
    },
    {
     "name": "stdout",
     "output_type": "stream",
     "text": [
      "Accuracy: 0.9151375889778137\n",
      "New best model saved with accuracy: 0.9151\n"
     ]
    },
    {
     "data": {
      "text/plain": [
       "Train Ep 2:   0%|          | 0/346 [00:00<?, ?it/s]"
      ],
      "application/vnd.jupyter.widget-view+json": {
       "version_major": 2,
       "version_minor": 0,
       "model_id": "c248e4e063ce4875935f7ba81b861055"
      }
     },
     "metadata": {},
     "output_type": "display_data"
    },
    {
     "data": {
      "text/plain": [
       "Eval:   0%|          | 0/346 [00:00<?, ?it/s]"
      ],
      "application/vnd.jupyter.widget-view+json": {
       "version_major": 2,
       "version_minor": 0,
       "model_id": "656a997d9fc64bf3925a3206716622d6"
      }
     },
     "metadata": {},
     "output_type": "display_data"
    },
    {
     "name": "stdout",
     "output_type": "stream",
     "text": [
      "Accuracy: 0.9770231246948242\n"
     ]
    },
    {
     "data": {
      "text/plain": [
       "Eval:   0%|          | 0/44 [00:00<?, ?it/s]"
      ],
      "application/vnd.jupyter.widget-view+json": {
       "version_major": 2,
       "version_minor": 0,
       "model_id": "c235a28e535a41f190f81c7c7416b88a"
      }
     },
     "metadata": {},
     "output_type": "display_data"
    },
    {
     "name": "stdout",
     "output_type": "stream",
     "text": [
      "Accuracy: 0.911697268486023\n"
     ]
    },
    {
     "data": {
      "text/plain": [
       "Train Ep 3:   0%|          | 0/346 [00:00<?, ?it/s]"
      ],
      "application/vnd.jupyter.widget-view+json": {
       "version_major": 2,
       "version_minor": 0,
       "model_id": "b9e6347400ff4b7aad79e2e0c1a142be"
      }
     },
     "metadata": {},
     "output_type": "display_data"
    },
    {
     "data": {
      "text/plain": [
       "Eval:   0%|          | 0/346 [00:00<?, ?it/s]"
      ],
      "application/vnd.jupyter.widget-view+json": {
       "version_major": 2,
       "version_minor": 0,
       "model_id": "6f0b42e0a6a644f280d56e48ed3dff30"
      }
     },
     "metadata": {},
     "output_type": "display_data"
    },
    {
     "name": "stdout",
     "output_type": "stream",
     "text": [
      "Accuracy: 0.967196524143219\n"
     ]
    },
    {
     "data": {
      "text/plain": [
       "Eval:   0%|          | 0/44 [00:00<?, ?it/s]"
      ],
      "application/vnd.jupyter.widget-view+json": {
       "version_major": 2,
       "version_minor": 0,
       "model_id": "4980f0b8730845f29ced9bac6c55d88e"
      }
     },
     "metadata": {},
     "output_type": "display_data"
    },
    {
     "name": "stdout",
     "output_type": "stream",
     "text": [
      "Accuracy: 0.8910550475120544\n"
     ]
    },
    {
     "data": {
      "text/plain": [
       "Train Ep 4:   0%|          | 0/346 [00:00<?, ?it/s]"
      ],
      "application/vnd.jupyter.widget-view+json": {
       "version_major": 2,
       "version_minor": 0,
       "model_id": "5e45d4fd04154bb496570f987255e838"
      }
     },
     "metadata": {},
     "output_type": "display_data"
    },
    {
     "data": {
      "text/plain": [
       "Eval:   0%|          | 0/346 [00:00<?, ?it/s]"
      ],
      "application/vnd.jupyter.widget-view+json": {
       "version_major": 2,
       "version_minor": 0,
       "model_id": "57677439151543ffb9f368d22893d962"
      }
     },
     "metadata": {},
     "output_type": "display_data"
    },
    {
     "name": "stdout",
     "output_type": "stream",
     "text": [
      "Accuracy: 0.9958092570304871\n"
     ]
    },
    {
     "data": {
      "text/plain": [
       "Eval:   0%|          | 0/44 [00:00<?, ?it/s]"
      ],
      "application/vnd.jupyter.widget-view+json": {
       "version_major": 2,
       "version_minor": 0,
       "model_id": "31d3bab06a7b48fa938fc37be09e3672"
      }
     },
     "metadata": {},
     "output_type": "display_data"
    },
    {
     "name": "stdout",
     "output_type": "stream",
     "text": [
      "Accuracy: 0.9197247624397278\n",
      "New best model saved with accuracy: 0.9197\n"
     ]
    },
    {
     "data": {
      "text/plain": [
       "Train Ep 5:   0%|          | 0/346 [00:00<?, ?it/s]"
      ],
      "application/vnd.jupyter.widget-view+json": {
       "version_major": 2,
       "version_minor": 0,
       "model_id": "3c3c4f282aa944689dbcd08756aaa1ea"
      }
     },
     "metadata": {},
     "output_type": "display_data"
    },
    {
     "data": {
      "text/plain": [
       "Eval:   0%|          | 0/346 [00:00<?, ?it/s]"
      ],
      "application/vnd.jupyter.widget-view+json": {
       "version_major": 2,
       "version_minor": 0,
       "model_id": "5e6e4a5520b246be8b1bf52789e05173"
      }
     },
     "metadata": {},
     "output_type": "display_data"
    },
    {
     "name": "stdout",
     "output_type": "stream",
     "text": [
      "Accuracy: 0.9921965599060059\n"
     ]
    },
    {
     "data": {
      "text/plain": [
       "Eval:   0%|          | 0/44 [00:00<?, ?it/s]"
      ],
      "application/vnd.jupyter.widget-view+json": {
       "version_major": 2,
       "version_minor": 0,
       "model_id": "ca09eb1ac35d456099e35d9946a569ae"
      }
     },
     "metadata": {},
     "output_type": "display_data"
    },
    {
     "name": "stdout",
     "output_type": "stream",
     "text": [
      "Accuracy: 0.9002293348312378\n"
     ]
    },
    {
     "data": {
      "text/plain": [
       "Train Ep 6:   0%|          | 0/346 [00:00<?, ?it/s]"
      ],
      "application/vnd.jupyter.widget-view+json": {
       "version_major": 2,
       "version_minor": 0,
       "model_id": "f26d1a6758a44774b4ece43a51a007b4"
      }
     },
     "metadata": {},
     "output_type": "display_data"
    },
    {
     "data": {
      "text/plain": [
       "Eval:   0%|          | 0/346 [00:00<?, ?it/s]"
      ],
      "application/vnd.jupyter.widget-view+json": {
       "version_major": 2,
       "version_minor": 0,
       "model_id": "2d723f65de734417974f7794f82100ad"
      }
     },
     "metadata": {},
     "output_type": "display_data"
    },
    {
     "name": "stdout",
     "output_type": "stream",
     "text": [
      "Accuracy: 0.9955202341079712\n"
     ]
    },
    {
     "data": {
      "text/plain": [
       "Eval:   0%|          | 0/44 [00:00<?, ?it/s]"
      ],
      "application/vnd.jupyter.widget-view+json": {
       "version_major": 2,
       "version_minor": 0,
       "model_id": "2e9816cb25bc4774b1e8197afebae418"
      }
     },
     "metadata": {},
     "output_type": "display_data"
    },
    {
     "name": "stdout",
     "output_type": "stream",
     "text": [
      "Accuracy: 0.9025229215621948\n"
     ]
    },
    {
     "data": {
      "text/plain": [
       "Train Ep 7:   0%|          | 0/346 [00:00<?, ?it/s]"
      ],
      "application/vnd.jupyter.widget-view+json": {
       "version_major": 2,
       "version_minor": 0,
       "model_id": "931e345078c442f78ca01494365b0692"
      }
     },
     "metadata": {},
     "output_type": "display_data"
    },
    {
     "data": {
      "text/plain": [
       "Eval:   0%|          | 0/346 [00:00<?, ?it/s]"
      ],
      "application/vnd.jupyter.widget-view+json": {
       "version_major": 2,
       "version_minor": 0,
       "model_id": "a17daa95ec364229b3ad1d71017c5124"
      }
     },
     "metadata": {},
     "output_type": "display_data"
    },
    {
     "name": "stdout",
     "output_type": "stream",
     "text": [
      "Accuracy: 0.9981213808059692\n"
     ]
    },
    {
     "data": {
      "text/plain": [
       "Eval:   0%|          | 0/44 [00:00<?, ?it/s]"
      ],
      "application/vnd.jupyter.widget-view+json": {
       "version_major": 2,
       "version_minor": 0,
       "model_id": "9fdf3c8412b84ba4922de8ab0b32fcd7"
      }
     },
     "metadata": {},
     "output_type": "display_data"
    },
    {
     "name": "stdout",
     "output_type": "stream",
     "text": [
      "Accuracy: 0.9094036817550659\n"
     ]
    },
    {
     "data": {
      "text/plain": [
       "Train Ep 8:   0%|          | 0/346 [00:00<?, ?it/s]"
      ],
      "application/vnd.jupyter.widget-view+json": {
       "version_major": 2,
       "version_minor": 0,
       "model_id": "58d2f9f0874e46a5b0c23dd10890fead"
      }
     },
     "metadata": {},
     "output_type": "display_data"
    },
    {
     "data": {
      "text/plain": [
       "Eval:   0%|          | 0/346 [00:00<?, ?it/s]"
      ],
      "application/vnd.jupyter.widget-view+json": {
       "version_major": 2,
       "version_minor": 0,
       "model_id": "bfd30e6ec1984ab4ae500077aa213987"
      }
     },
     "metadata": {},
     "output_type": "display_data"
    },
    {
     "name": "stdout",
     "output_type": "stream",
     "text": [
      "Accuracy: 0.9978323578834534\n"
     ]
    },
    {
     "data": {
      "text/plain": [
       "Eval:   0%|          | 0/44 [00:00<?, ?it/s]"
      ],
      "application/vnd.jupyter.widget-view+json": {
       "version_major": 2,
       "version_minor": 0,
       "model_id": "5bdadd5bce91491a9e734c6c1f9204af"
      }
     },
     "metadata": {},
     "output_type": "display_data"
    },
    {
     "name": "stdout",
     "output_type": "stream",
     "text": [
      "Accuracy: 0.9036697149276733\n",
      "Early stopping triggered. No improvement for 4 epochs.\n",
      "Training with parameters: {'batch_size': 100, 'learning_rate': 0.0001, 'num_epochs': 20, 'checkpoint_path': './checkpoints/best_model_4_3.pth'}\n"
     ]
    },
    {
     "name": "stderr",
     "output_type": "stream",
     "text": [
      "Some weights of RobertaForSequenceClassification were not initialized from the model checkpoint at roberta-base and are newly initialized: ['classifier.dense.bias', 'classifier.dense.weight', 'classifier.out_proj.bias', 'classifier.out_proj.weight']\n",
      "You should probably TRAIN this model on a down-stream task to be able to use it for predictions and inference.\n"
     ]
    },
    {
     "data": {
      "text/plain": [
       "Train Ep 1:   0%|          | 0/70 [00:00<?, ?it/s]"
      ],
      "application/vnd.jupyter.widget-view+json": {
       "version_major": 2,
       "version_minor": 0,
       "model_id": "e1d4fbaa6e4540418eb91468e3c09000"
      }
     },
     "metadata": {},
     "output_type": "display_data"
    },
    {
     "data": {
      "text/plain": [
       "Eval:   0%|          | 0/70 [00:00<?, ?it/s]"
      ],
      "application/vnd.jupyter.widget-view+json": {
       "version_major": 2,
       "version_minor": 0,
       "model_id": "5d555ef187eb4ecdba6fb877092afbb1"
      }
     },
     "metadata": {},
     "output_type": "display_data"
    },
    {
     "name": "stdout",
     "output_type": "stream",
     "text": [
      "Accuracy: 0.9433525800704956\n"
     ]
    },
    {
     "data": {
      "text/plain": [
       "Eval:   0%|          | 0/9 [00:00<?, ?it/s]"
      ],
      "application/vnd.jupyter.widget-view+json": {
       "version_major": 2,
       "version_minor": 0,
       "model_id": "04ac790303724136834f11705fa38b12"
      }
     },
     "metadata": {},
     "output_type": "display_data"
    },
    {
     "name": "stdout",
     "output_type": "stream",
     "text": [
      "Accuracy: 0.9082568883895874\n",
      "New best model saved with accuracy: 0.9083\n"
     ]
    },
    {
     "data": {
      "text/plain": [
       "Train Ep 2:   0%|          | 0/70 [00:00<?, ?it/s]"
      ],
      "application/vnd.jupyter.widget-view+json": {
       "version_major": 2,
       "version_minor": 0,
       "model_id": "c5a815aabfb5403bb6871b9d307d8878"
      }
     },
     "metadata": {},
     "output_type": "display_data"
    },
    {
     "data": {
      "text/plain": [
       "Eval:   0%|          | 0/70 [00:00<?, ?it/s]"
      ],
      "application/vnd.jupyter.widget-view+json": {
       "version_major": 2,
       "version_minor": 0,
       "model_id": "a9d83e9ec7db445dbb2fb923fcabf093"
      }
     },
     "metadata": {},
     "output_type": "display_data"
    },
    {
     "name": "stdout",
     "output_type": "stream",
     "text": [
      "Accuracy: 0.9816473722457886\n"
     ]
    },
    {
     "data": {
      "text/plain": [
       "Eval:   0%|          | 0/9 [00:00<?, ?it/s]"
      ],
      "application/vnd.jupyter.widget-view+json": {
       "version_major": 2,
       "version_minor": 0,
       "model_id": "9563dda67b0d4e10a12a30c95ae2ecfb"
      }
     },
     "metadata": {},
     "output_type": "display_data"
    },
    {
     "name": "stdout",
     "output_type": "stream",
     "text": [
      "Accuracy: 0.9254587292671204\n",
      "New best model saved with accuracy: 0.9255\n"
     ]
    },
    {
     "data": {
      "text/plain": [
       "Train Ep 3:   0%|          | 0/70 [00:00<?, ?it/s]"
      ],
      "application/vnd.jupyter.widget-view+json": {
       "version_major": 2,
       "version_minor": 0,
       "model_id": "ea2d6e0283924c13aacba52208aae90b"
      }
     },
     "metadata": {},
     "output_type": "display_data"
    },
    {
     "data": {
      "text/plain": [
       "Eval:   0%|          | 0/70 [00:00<?, ?it/s]"
      ],
      "application/vnd.jupyter.widget-view+json": {
       "version_major": 2,
       "version_minor": 0,
       "model_id": "5464505ba52140409ecdb8e35a03a204"
      }
     },
     "metadata": {},
     "output_type": "display_data"
    },
    {
     "name": "stdout",
     "output_type": "stream",
     "text": [
      "Accuracy: 0.9842485785484314\n"
     ]
    },
    {
     "data": {
      "text/plain": [
       "Eval:   0%|          | 0/9 [00:00<?, ?it/s]"
      ],
      "application/vnd.jupyter.widget-view+json": {
       "version_major": 2,
       "version_minor": 0,
       "model_id": "e8767dee34de4f88b60db5e2b1ffbd39"
      }
     },
     "metadata": {},
     "output_type": "display_data"
    },
    {
     "name": "stdout",
     "output_type": "stream",
     "text": [
      "Accuracy: 0.9174311757087708\n"
     ]
    },
    {
     "data": {
      "text/plain": [
       "Train Ep 4:   0%|          | 0/70 [00:00<?, ?it/s]"
      ],
      "application/vnd.jupyter.widget-view+json": {
       "version_major": 2,
       "version_minor": 0,
       "model_id": "bbedecc909d548c79cd70f32f0af868e"
      }
     },
     "metadata": {},
     "output_type": "display_data"
    },
    {
     "data": {
      "text/plain": [
       "Eval:   0%|          | 0/70 [00:00<?, ?it/s]"
      ],
      "application/vnd.jupyter.widget-view+json": {
       "version_major": 2,
       "version_minor": 0,
       "model_id": "07cd553bacf545bd8a467dcd86e122ed"
      }
     },
     "metadata": {},
     "output_type": "display_data"
    },
    {
     "name": "stdout",
     "output_type": "stream",
     "text": [
      "Accuracy: 0.9809248447418213\n"
     ]
    },
    {
     "data": {
      "text/plain": [
       "Eval:   0%|          | 0/9 [00:00<?, ?it/s]"
      ],
      "application/vnd.jupyter.widget-view+json": {
       "version_major": 2,
       "version_minor": 0,
       "model_id": "3a374f7b2442465889a17527588ace24"
      }
     },
     "metadata": {},
     "output_type": "display_data"
    },
    {
     "name": "stdout",
     "output_type": "stream",
     "text": [
      "Accuracy: 0.9162843823432922\n"
     ]
    },
    {
     "data": {
      "text/plain": [
       "Train Ep 5:   0%|          | 0/70 [00:00<?, ?it/s]"
      ],
      "application/vnd.jupyter.widget-view+json": {
       "version_major": 2,
       "version_minor": 0,
       "model_id": "8de7ac74975f48e1a1d29eaeb9e85c09"
      }
     },
     "metadata": {},
     "output_type": "display_data"
    },
    {
     "data": {
      "text/plain": [
       "Eval:   0%|          | 0/70 [00:00<?, ?it/s]"
      ],
      "application/vnd.jupyter.widget-view+json": {
       "version_major": 2,
       "version_minor": 0,
       "model_id": "a91a410affdb495aa740f32bc985b6df"
      }
     },
     "metadata": {},
     "output_type": "display_data"
    },
    {
     "name": "stdout",
     "output_type": "stream",
     "text": [
      "Accuracy: 0.9949421882629395\n"
     ]
    },
    {
     "data": {
      "text/plain": [
       "Eval:   0%|          | 0/9 [00:00<?, ?it/s]"
      ],
      "application/vnd.jupyter.widget-view+json": {
       "version_major": 2,
       "version_minor": 0,
       "model_id": "fa93e615fee44c58a1e42f0263335d35"
      }
     },
     "metadata": {},
     "output_type": "display_data"
    },
    {
     "name": "stdout",
     "output_type": "stream",
     "text": [
      "Accuracy: 0.9128440618515015\n"
     ]
    },
    {
     "data": {
      "text/plain": [
       "Train Ep 6:   0%|          | 0/70 [00:00<?, ?it/s]"
      ],
      "application/vnd.jupyter.widget-view+json": {
       "version_major": 2,
       "version_minor": 0,
       "model_id": "c813448b4e9c49ae8179ad17fd36df58"
      }
     },
     "metadata": {},
     "output_type": "display_data"
    },
    {
     "data": {
      "text/plain": [
       "Eval:   0%|          | 0/70 [00:00<?, ?it/s]"
      ],
      "application/vnd.jupyter.widget-view+json": {
       "version_major": 2,
       "version_minor": 0,
       "model_id": "84dbc171c2cf43ad8f4a97fc3568a856"
      }
     },
     "metadata": {},
     "output_type": "display_data"
    },
    {
     "name": "stdout",
     "output_type": "stream",
     "text": [
      "Accuracy: 0.9965317845344543\n"
     ]
    },
    {
     "data": {
      "text/plain": [
       "Eval:   0%|          | 0/9 [00:00<?, ?it/s]"
      ],
      "application/vnd.jupyter.widget-view+json": {
       "version_major": 2,
       "version_minor": 0,
       "model_id": "b1580e8b1454406998edba66e3d8d718"
      }
     },
     "metadata": {},
     "output_type": "display_data"
    },
    {
     "name": "stdout",
     "output_type": "stream",
     "text": [
      "Accuracy: 0.9151375889778137\n",
      "Early stopping triggered. No improvement for 4 epochs.\n",
      "Best hyperparameters: {'batch_size': 5, 'learning_rate': 1e-06, 'num_epochs': 20, 'checkpoint_path': './checkpoints/best_model_4_1.pth'}\n",
      "Best validation accuracy: 0.9278\n"
     ]
    },
    {
     "name": "stderr",
     "output_type": "stream",
     "text": [
      "Some weights of RobertaForSequenceClassification were not initialized from the model checkpoint at roberta-base and are newly initialized: ['classifier.dense.bias', 'classifier.dense.weight', 'classifier.out_proj.bias', 'classifier.out_proj.weight']\n",
      "You should probably TRAIN this model on a down-stream task to be able to use it for predictions and inference.\n"
     ]
    },
    {
     "data": {
      "text/plain": [
       "Eval:   0%|          | 0/1384 [00:00<?, ?it/s]"
      ],
      "application/vnd.jupyter.widget-view+json": {
       "version_major": 2,
       "version_minor": 0,
       "model_id": "3801591afaaa4956831a02a66ab81d86"
      }
     },
     "metadata": {},
     "output_type": "display_data"
    },
    {
     "name": "stdout",
     "output_type": "stream",
     "text": [
      "Accuracy: 0.9791907668113708\n"
     ]
    },
    {
     "data": {
      "text/plain": [
       "Eval:   0%|          | 0/175 [00:00<?, ?it/s]"
      ],
      "application/vnd.jupyter.widget-view+json": {
       "version_major": 2,
       "version_minor": 0,
       "model_id": "5d15e3863d77442ea53c1107a34a6a77"
      }
     },
     "metadata": {},
     "output_type": "display_data"
    },
    {
     "name": "stdout",
     "output_type": "stream",
     "text": [
      "Accuracy: 0.9277523159980774\n"
     ]
    },
    {
     "data": {
      "text/plain": [
       "Eval:   0%|          | 0/365 [00:00<?, ?it/s]"
      ],
      "application/vnd.jupyter.widget-view+json": {
       "version_major": 2,
       "version_minor": 0,
       "model_id": "f0e82c5c58ee4c69aa1e167718526a7d"
      }
     },
     "metadata": {},
     "output_type": "display_data"
    },
    {
     "name": "stdout",
     "output_type": "stream",
     "text": [
      "Accuracy: 0.9467325806617737\n",
      "model 4-1 results: 0.9467\n"
     ]
    },
    {
     "name": "stderr",
     "output_type": "stream",
     "text": [
      "Some weights of RobertaForSequenceClassification were not initialized from the model checkpoint at roberta-base and are newly initialized: ['classifier.dense.bias', 'classifier.dense.weight', 'classifier.out_proj.bias', 'classifier.out_proj.weight']\n",
      "You should probably TRAIN this model on a down-stream task to be able to use it for predictions and inference.\n"
     ]
    },
    {
     "data": {
      "text/plain": [
       "Eval:   0%|          | 0/1384 [00:00<?, ?it/s]"
      ],
      "application/vnd.jupyter.widget-view+json": {
       "version_major": 2,
       "version_minor": 0,
       "model_id": "98b4cf29302c4a74834d7779cc1b02e4"
      }
     },
     "metadata": {},
     "output_type": "display_data"
    },
    {
     "name": "stdout",
     "output_type": "stream",
     "text": [
      "Accuracy: 0.9958092570304871\n"
     ]
    },
    {
     "data": {
      "text/plain": [
       "Eval:   0%|          | 0/175 [00:00<?, ?it/s]"
      ],
      "application/vnd.jupyter.widget-view+json": {
       "version_major": 2,
       "version_minor": 0,
       "model_id": "c840fb51aae941f0a94962f3bbab23db"
      }
     },
     "metadata": {},
     "output_type": "display_data"
    },
    {
     "name": "stdout",
     "output_type": "stream",
     "text": [
      "Accuracy: 0.9197247624397278\n"
     ]
    },
    {
     "data": {
      "text/plain": [
       "Eval:   0%|          | 0/365 [00:00<?, ?it/s]"
      ],
      "application/vnd.jupyter.widget-view+json": {
       "version_major": 2,
       "version_minor": 0,
       "model_id": "e255ca0ff939484298680821604f6574"
      }
     },
     "metadata": {},
     "output_type": "display_data"
    },
    {
     "name": "stdout",
     "output_type": "stream",
     "text": [
      "Accuracy: 0.9242174625396729\n",
      "model 4-2 results: 0.9242\n"
     ]
    },
    {
     "name": "stderr",
     "output_type": "stream",
     "text": [
      "Some weights of RobertaForSequenceClassification were not initialized from the model checkpoint at roberta-base and are newly initialized: ['classifier.dense.bias', 'classifier.dense.weight', 'classifier.out_proj.bias', 'classifier.out_proj.weight']\n",
      "You should probably TRAIN this model on a down-stream task to be able to use it for predictions and inference.\n"
     ]
    },
    {
     "data": {
      "text/plain": [
       "Eval:   0%|          | 0/1384 [00:00<?, ?it/s]"
      ],
      "application/vnd.jupyter.widget-view+json": {
       "version_major": 2,
       "version_minor": 0,
       "model_id": "30a0119f07b74abfbf6e17227a71e66c"
      }
     },
     "metadata": {},
     "output_type": "display_data"
    },
    {
     "name": "stdout",
     "output_type": "stream",
     "text": [
      "Accuracy: 0.9816473722457886\n"
     ]
    },
    {
     "data": {
      "text/plain": [
       "Eval:   0%|          | 0/175 [00:00<?, ?it/s]"
      ],
      "application/vnd.jupyter.widget-view+json": {
       "version_major": 2,
       "version_minor": 0,
       "model_id": "47a7f12209da4726a1893c5fddfc2c83"
      }
     },
     "metadata": {},
     "output_type": "display_data"
    },
    {
     "name": "stdout",
     "output_type": "stream",
     "text": [
      "Accuracy: 0.9254587292671204\n"
     ]
    },
    {
     "data": {
      "text/plain": [
       "Eval:   0%|          | 0/365 [00:00<?, ?it/s]"
      ],
      "application/vnd.jupyter.widget-view+json": {
       "version_major": 2,
       "version_minor": 0,
       "model_id": "f5c9c9e624604b4da7663b782a956dd1"
      }
     },
     "metadata": {},
     "output_type": "display_data"
    },
    {
     "name": "stdout",
     "output_type": "stream",
     "text": [
      "Accuracy: 0.9373970627784729\n",
      "model 4-3 results: 0.9374\n"
     ]
    }
   ],
   "execution_count": 21
  },
  {
   "metadata": {},
   "cell_type": "markdown",
   "source": "From the output, we can see that model 4-1 performs the best on the test set with accuracy of 0.9467."
  },
  {
   "metadata": {},
   "cell_type": "markdown",
   "source": "## 5. Final Model Performance"
  },
  {
   "metadata": {
    "ExecuteTime": {
     "end_time": "2025-02-13T03:42:37.799142Z",
     "start_time": "2025-02-13T03:42:29.573542Z"
    }
   },
   "cell_type": "code",
   "source": [
    "# Load the best model and evaluate on all datasets\n",
    "tokenizer = AutoTokenizer.from_pretrained(\"roberta-base\")\n",
    "model = AutoModelForSequenceClassification.from_pretrained(\"roberta-base\", num_labels=2)\n",
    "model.load_state_dict(torch.load('./checkpoints/best_model_4_1.pth'))\n",
    "model = model.cuda()\n",
    "\n",
    "datasets = initialize_datasets(tokenizer)\n",
    "\n",
    "train_dataloader = DataLoader(datasets['train'], batch_size=best_params['batch_size'], shuffle=False, collate_fn=SST2Dataset.collate_fn)\n",
    "valid_dataloader = DataLoader(datasets['validation'], batch_size=best_params['batch_size'], shuffle=False, collate_fn=SST2Dataset.collate_fn)\n",
    "test_dataloader = DataLoader(datasets['test'], batch_size=best_params['batch_size'], shuffle=False, collate_fn=SST2Dataset.collate_fn)\n",
    "\n",
    "train_accuracy = evaluate(model, train_dataloader)\n",
    "valid_accuracy = evaluate(model, valid_dataloader)\n",
    "test_accuracy = evaluate(model, test_dataloader)\n",
    "\n",
    "print(f\"Best model hyperparameters:\")\n",
    "print(f\"Optimizer: AdamW\")\n",
    "print(f\"Batch size: {best_params['batch_size']}\")\n",
    "print(f\"Learning rate: {best_params['learning_rate']}\")\n",
    "print(f\"Number of epochs: {best_params['num_epochs']}\")\n",
    "print(f\"\\nFinal model performance:\")\n",
    "print(f\"Training accuracy: {train_accuracy:.4f}\")\n",
    "print(f\"Validation accuracy: {valid_accuracy:.4f}\")\n",
    "print(f\"Test accuracy: {test_accuracy:.4f}\")"
   ],
   "outputs": [
    {
     "name": "stderr",
     "output_type": "stream",
     "text": [
      "Some weights of RobertaForSequenceClassification were not initialized from the model checkpoint at roberta-base and are newly initialized: ['classifier.dense.bias', 'classifier.dense.weight', 'classifier.out_proj.bias', 'classifier.out_proj.weight']\n",
      "You should probably TRAIN this model on a down-stream task to be able to use it for predictions and inference.\n"
     ]
    },
    {
     "data": {
      "text/plain": [
       "Eval:   0%|          | 0/1384 [00:00<?, ?it/s]"
      ],
      "application/vnd.jupyter.widget-view+json": {
       "version_major": 2,
       "version_minor": 0,
       "model_id": "a21ecc7af48d4f41961b41eaa167230a"
      }
     },
     "metadata": {},
     "output_type": "display_data"
    },
    {
     "name": "stdout",
     "output_type": "stream",
     "text": [
      "Accuracy: 0.9791907668113708\n"
     ]
    },
    {
     "data": {
      "text/plain": [
       "Eval:   0%|          | 0/175 [00:00<?, ?it/s]"
      ],
      "application/vnd.jupyter.widget-view+json": {
       "version_major": 2,
       "version_minor": 0,
       "model_id": "6f995713a5ac4cfdb10f09c52c2c06c9"
      }
     },
     "metadata": {},
     "output_type": "display_data"
    },
    {
     "name": "stdout",
     "output_type": "stream",
     "text": [
      "Accuracy: 0.9277523159980774\n"
     ]
    },
    {
     "data": {
      "text/plain": [
       "Eval:   0%|          | 0/365 [00:00<?, ?it/s]"
      ],
      "application/vnd.jupyter.widget-view+json": {
       "version_major": 2,
       "version_minor": 0,
       "model_id": "f098591f3503467294f51fa0150dfef6"
      }
     },
     "metadata": {},
     "output_type": "display_data"
    },
    {
     "name": "stdout",
     "output_type": "stream",
     "text": [
      "Accuracy: 0.9467325806617737\n",
      "Best model hyperparameters:\n",
      "Optimizer: AdamW\n",
      "Batch size: 5\n",
      "Learning rate: 1e-06\n",
      "Number of epochs: 20\n",
      "\n",
      "Final model performance:\n",
      "Training accuracy: 0.9792\n",
      "Validation accuracy: 0.9278\n",
      "Test accuracy: 0.9467\n"
     ]
    }
   ],
   "execution_count": 22
  }
 ],
 "metadata": {
  "accelerator": "GPU",
  "colab": {
   "gpuType": "T4",
   "provenance": []
  },
  "kernelspec": {
   "display_name": "Python 3 (ipykernel)",
   "name": "python3",
   "language": "python"
  },
  "language_info": {
   "name": "python"
  }
 },
 "nbformat": 4,
 "nbformat_minor": 0
}
