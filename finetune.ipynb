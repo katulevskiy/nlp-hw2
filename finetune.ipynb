{
 "cells": [
  {
   "cell_type": "markdown",
   "metadata": {
    "id": "nLDBRhYnS6Pu"
   },
   "source": [
    "# Instructions\n",
    "- Before running the jupyter notebook, don't forget to copy it into your drive **(`File` => `Save a copy in Drive`)**. *Failing to do this step may result in losing the progress of your code.*\n",
    "- Change your resource type to GPU before progressing **(`Runtime` => `Change runtime time` => `T4 GPU`).**\n",
    "- There are six steps for this exercise (including step 0, the preperation step). You will complete the the code blocks denoted by **`TODO:`**.\n",
    "\n",
    "# Step 0: Preperation\n",
    "\n",
    "**Step 0.1:** Install dependency\n",
    "- This step could take a while.\n",
    "\n",
    "**Step 0.2:** Mount data and files to your drive (optional).\n",
    "- This is useful if you want to save your model weights, etc.\n",
    "- You will see a few popup windows asking for your authorization for this notebook to access your Google Drive files. You need to say yes to all of them."
   ]
  },
  {
   "cell_type": "code",
   "execution_count": null,
   "metadata": {
    "id": "GKtzKEQ_SCyw"
   },
   "outputs": [],
   "source": [
    "# Step 0.1: Install dependency and download codebase\n",
    "# %pip install torch transformers datasets tqdm matplotlib\n",
    "# !mkdir checkpoints"
   ]
  },
  {
   "cell_type": "code",
   "execution_count": null,
   "metadata": {
    "id": "L_4yRXYMIAnh"
   },
   "outputs": [],
   "source": [
    "# Step 0.2: Mount data and files to your drive (optional).\n",
    "# from google.colab import drive\n",
    "# drive.mount('/content/drive')"
   ]
  },
  {
   "cell_type": "markdown",
   "metadata": {
    "id": "Qq_4e2P7FWg9"
   },
   "source": [
    "# Step 1: Defining PyTorch Dataset and Dataloader\n",
    "\n",
    "First, you will implement a dataset class (named `SST2Dataset`) for processing the SST-2 dataset. You can find details of the basics of Dataset and Dateloader in this [tutorial](https://pytorch.org/tutorials/beginner/basics/data_tutorial.html).\n",
    "\n",
    "We defined the `SST2Example` class for you, which is used to convert a dict of raw data into an SST2Example object that contains a text and label."
   ]
  },
  {
   "cell_type": "code",
   "metadata": {
    "id": "BZSVUen2Fut9",
    "ExecuteTime": {
     "end_time": "2025-02-13T00:23:35.779467Z",
     "start_time": "2025-02-13T00:23:34.042057Z"
    }
   },
   "source": [
    "# Load necessary packages\n",
    "from dataclasses import dataclass\n",
    "from typing import List, Tuple\n",
    "\n",
    "import torch\n",
    "from torch.utils.data import Dataset, DataLoader\n",
    "from transformers import PreTrainedTokenizerFast, AutoTokenizer\n",
    "from datasets import load_dataset\n",
    "\n",
    "######################################################\n",
    "#  The following code is given to you.\n",
    "######################################################\n",
    "\n",
    "@dataclass\n",
    "class SST2Example:\n",
    "    \"\"\"\n",
    "    Convert a dict of raw data into an SST2Example object that contains a text and label.\n",
    "    If you're interested, you can find descriptions of dataclass at https://docs.python.org/3/library/dataclasses.html\n",
    "    \"\"\"\n",
    "    text: str\n",
    "    label: int  # 0 for negative, 1 for positive\n",
    "\n",
    "    @staticmethod\n",
    "    def from_dict(data: dict):\n",
    "        text = data['text']\n",
    "        label = data['label']\n",
    "\n",
    "        return SST2Example(\n",
    "            text=text,\n",
    "            label=label,\n",
    "        )\n",
    "\n",
    "\n",
    "def initialize_datasets(tokenizer: PreTrainedTokenizerFast) -> dict:\n",
    "    \"\"\"\n",
    "    Initialize the dataset objects for all splits based on the raw data.\n",
    "    :param tokenizer: A tokenizer used to prepare the inputs for a model (see details in https://huggingface.co/docs/transformers/main_classes/tokenizer).\n",
    "    :return: A dictionary of the dataset splits.\n",
    "    \"\"\"\n",
    "    raw_data = load_dataset(\"gpt3mix/sst2\")\n",
    "    split_datasets = {}\n",
    "\n",
    "    for split_name in raw_data.keys():\n",
    "        split_data = list(raw_data[split_name])\n",
    "\n",
    "        split_datasets[split_name] = SST2Dataset(tokenizer, split_data)\n",
    "\n",
    "    return split_datasets"
   ],
   "outputs": [],
   "execution_count": 2
  },
  {
   "cell_type": "markdown",
   "metadata": {
    "id": "5LX8SLHbSyzv"
   },
   "source": [
    "## **Coding Exercises** for Step 1:\n",
    "Below, we provide a skeleton for creating a SST-3 Dataset object. **You will complete the following code blocks denoted by `TODO:`.**  \n",
    "You can read more about `PreTrainedTokenizerFast` [here](https://huggingface.co/docs/transformers/main_classes/tokenizer#transformers.PreTrainedTokenizerFast.__call__) (e.g., why do we set `padding`, `max_length`, `truncation`, and `return_tensors` to the values provided below)."
   ]
  },
  {
   "cell_type": "code",
   "metadata": {
    "id": "lCfmeRwBK1rD",
    "ExecuteTime": {
     "end_time": "2025-02-13T00:23:36.950140Z",
     "start_time": "2025-02-13T00:23:36.946041Z"
    }
   },
   "source": [
    "class SST2Dataset(Dataset):\n",
    "    \"\"\"\n",
    "    Create a customized dataset object for SST-2.\n",
    "    A custom Dataset class must implement three functions: __init__, __len__, and __getitem__.\n",
    "    You can find a detailed tutorial on Dataset at https://pytorch.org/tutorials/beginner/basics/data_tutorial.html.\n",
    "    \"\"\"\n",
    "    tokenizer: PreTrainedTokenizerFast = None\n",
    "\n",
    "    def __init__(self, tokenizer: PreTrainedTokenizerFast, raw_data_list: List[dict]):\n",
    "        SST2Dataset.tokenizer = tokenizer\n",
    "        self.sample_list = [SST2Example.from_dict(data) for data in raw_data_list]\n",
    "\n",
    "    def __len__(self):\n",
    "        \"\"\"\n",
    "        Get the number of items in the dataset.\n",
    "        \"\"\"\n",
    "        # TODO: return the number of samples in sample_list.\n",
    "        return len(self.sample_list)\n",
    "\n",
    "    def __getitem__(self, idx):\n",
    "        \"\"\"\n",
    "        Get the idx-th item from the dataset.\n",
    "        \"\"\"\n",
    "        # TODO: return the idx-th item in sample_list.\n",
    "        return self.sample_list[idx]\n",
    "\n",
    "    def __iter__(self):\n",
    "        \"\"\"\n",
    "        Get an iterator for the dataset.\n",
    "        \"\"\"\n",
    "        # TODO: return an iterator for sample_list.\n",
    "        return iter(self.sample_list)\n",
    "\n",
    "    @staticmethod\n",
    "    def collate_fn(batched_samples: List[SST2Example]) -> dict:\n",
    "        \"\"\"\n",
    "        Encode samples in batched_samples: tokenize the input texts, and turn labels into a tensor.\n",
    "        :param batched_samples: A list of SST2Example samples.\n",
    "        :return: A dictionary of encoded texts and their corresponding labels (in tensors).\n",
    "        \"\"\"\n",
    "        # TODO: collect all input texts from batched_samples into a list.\n",
    "        batched_text = [sample.text for sample in batched_samples]\n",
    "\n",
    "        # TODO: collect all labels from batched_samples into a list.\n",
    "        batched_label = [sample.label for sample in batched_samples]\n",
    "\n",
    "        # Tokenize the input texts.\n",
    "        text_encoding = SST2Dataset.tokenizer(batched_text,\n",
    "                                              padding=True,\n",
    "                                              max_length=512,\n",
    "                                              truncation=True,\n",
    "                                              return_tensors=\"pt\")\n",
    "\n",
    "        # TODO: convert data type of the labels to torch.long (Hint: using torch.LongTensor).\n",
    "        label_encoding = torch.LongTensor(batched_label)\n",
    "\n",
    "        # TODO: return dictionary of encoded texts and labels.\n",
    "        return {\n",
    "            \"input_ids\": text_encoding[\"input_ids\"],\n",
    "            \"attention_mask\": text_encoding[\"attention_mask\"],\n",
    "            \"labels\": label_encoding\n",
    "        }"
   ],
   "outputs": [],
   "execution_count": 3
  },
  {
   "cell_type": "markdown",
   "metadata": {
    "id": "ypEhAyqLdfuK"
   },
   "source": [
    "# Step 2: Loading Data\n",
    "Here, you will load the data using the Dataloader of the dataset you built from the previous step."
   ]
  },
  {
   "cell_type": "markdown",
   "metadata": {
    "id": "Snh8dTy2d88M"
   },
   "source": [
    "## **Coding Exercises** for Step 2:\n",
    "You will complete the following code blocks denoted by `TODO:`."
   ]
  },
  {
   "cell_type": "code",
   "metadata": {
    "id": "qW5cX6L6SuNt",
    "ExecuteTime": {
     "end_time": "2025-02-13T00:23:47.043213Z",
     "start_time": "2025-02-13T00:23:39.254052Z"
    }
   },
   "source": [
    "\"\"\"\n",
    "Load train / validation / test dataset, using `initialize_datasets` in `dataset.py`.\n",
    "\"\"\"\n",
    "# TODO: load pre-trained tokenizer for roberta-base from transformers library.\n",
    "# See more examples here: https://huggingface.co/docs/transformers/v4.37.0/en/model_doc/roberta#transformers.RobertaForSequenceClassification.forward.example\n",
    "tokenizer = AutoTokenizer.from_pretrained(\"roberta-base\")\n",
    "\n",
    "# TODO: load datasets using initialize_datasets.\n",
    "datasets = initialize_datasets(tokenizer)\n",
    "\n",
    "# TODO: get the first data point in your validation dataset.\n",
    "# Hint: (for you to debug) you returned data point should look like `SST2Example(text=\"It 's a lovely ...\", label=0)`\n",
    "val_first_element = datasets['validation'][0]\n",
    "\n",
    "# TODO: get the length of train, validation, and test datasets using `datasets` variable.\n",
    "length_train = len(datasets['train'])\n",
    "length_val = len(datasets['validation'])\n",
    "length_test = len(datasets['test'])\n",
    "\n",
    "\"\"\"\n",
    "To load batch of samples from `torch.Dataset` during training / inference, we use `DataLoader` class.\n",
    "Below, we provide an example of loading a dataloader for the validation split of SST-2.\n",
    "\"\"\"\n",
    "validation_dataloader = DataLoader(datasets['validation'],\n",
    "                                   batch_size=64,\n",
    "                                   shuffle=False,\n",
    "                                   collate_fn=SST2Dataset.collate_fn,\n",
    "                                   num_workers=2)\n",
    "\n",
    "# TODO: load the first batch of samples from the validation dataset\n",
    "# Hint: use iterator!\n",
    "batch = next(iter(validation_dataloader))\n"
   ],
   "outputs": [],
   "execution_count": 4
  },
  {
   "cell_type": "markdown",
   "metadata": {
    "id": "_EwftWQpXJ-4"
   },
   "source": [
    "# Step 3: Training and Evaluation"
   ]
  },
  {
   "cell_type": "code",
   "metadata": {
    "id": "kZirwxUXYd6e",
    "ExecuteTime": {
     "end_time": "2025-02-13T00:23:52.080983Z",
     "start_time": "2025-02-13T00:23:52.074518Z"
    }
   },
   "source": [
    "import torch\n",
    "import torch.nn as nn\n",
    "from torch.utils.data import DataLoader\n",
    "from torch.optim import Optimizer, AdamW\n",
    "from tqdm.notebook import tqdm\n",
    "from transformers import AutoTokenizer, AutoModelForSequenceClassification"
   ],
   "outputs": [],
   "execution_count": 5
  },
  {
   "cell_type": "markdown",
   "metadata": {
    "id": "_Fwo2RQsoeP0"
   },
   "source": [
    "## **Coding Exercises** for Step 3:\n",
    "Here, we provide a skeleton for two functions, `train_one_epoch` and `evaluate`. **You will complete code blocks denoted by `TODO:`.**  \n",
    "You can learn more about optimizers and the basic structure of a training loop in [this tutorial](https://pytorch.org/tutorials/beginner/introyt/trainingyt.html)."
   ]
  },
  {
   "cell_type": "code",
   "metadata": {
    "id": "o3d2qrp2XPqZ",
    "ExecuteTime": {
     "end_time": "2025-02-13T00:23:53.741530Z",
     "start_time": "2025-02-13T00:23:53.738102Z"
    }
   },
   "source": [
    "def train_one_epoch(model: nn.Module, dataloader: DataLoader, optimizer: Optimizer, epoch: int):\n",
    "    \"\"\"\n",
    "    Train the model for one epoch.\n",
    "    :param model: A pre-trained model loaded from transformers. (e.g., RobertaForSequenceClassification https://huggingface.co/docs/transformers/v4.37.0/en/model_doc/roberta#transformers.RobertaForSequenceClassification)\n",
    "    :param dataloader: A train set dataloader for SST2Dataset.\n",
    "    :param optimizer: An instance of Pytorch optimizer. (e.g., AdamW https://pytorch.org/docs/stable/generated/torch.optim.AdamW.html)\n",
    "    :param epoch: An integer denoting current epoch.\n",
    "    Trains model for one epoch.\n",
    "    \"\"\"\n",
    "    # TODO: set the model to the training mode.\n",
    "    model.train()\n",
    "\n",
    "    with tqdm(dataloader, desc=f\"Train Ep {epoch}\", total=len(dataloader)) as tq:\n",
    "        for batch in tq:\n",
    "            # TODO: retrieve the data from your batch and send it to the same device as your model (i.e., model.device).\n",
    "            # Hint: model.device should point to 'cuda' as you set it as such in the main function below.\n",
    "            #       However, please use `model.device` and don't hard code it to 'cuda' as the auto-grader will put the model on CPU.\n",
    "            text_encoding = {k: v.to(model.device) for k, v in batch.items() if k != 'labels'}\n",
    "            label_encoding = batch['labels'].to(model.device)\n",
    "\n",
    "            # TODO: Compute loss by running model with text_encoding and label_encoding.\n",
    "            outputs = model(**text_encoding, labels=label_encoding)\n",
    "            loss = outputs.loss\n",
    "\n",
    "            # TODO: compute gradients and update parameters using optimizer.\n",
    "            # Hint: you need three lines of code here!\n",
    "            optimizer.zero_grad()\n",
    "            loss.backward()\n",
    "            optimizer.step()\n",
    "\n",
    "            tq.set_postfix({\"loss\": loss.detach().item()}) # for printing better-looking progress bar"
   ],
   "outputs": [],
   "execution_count": 6
  },
  {
   "cell_type": "code",
   "metadata": {
    "id": "i2xd5kiSXJVu",
    "ExecuteTime": {
     "end_time": "2025-02-13T00:23:55.385886Z",
     "start_time": "2025-02-13T00:23:55.382877Z"
    }
   },
   "source": [
    "def evaluate(model: nn.Module, dataloader: DataLoader) -> float:\n",
    "    \"\"\"\n",
    "    Evaluate model on the dataloader and compute the accuracy.\n",
    "    :param model: A language model loaded from transformers. (e.g., RobertaForSequenceClassification https://huggingface.co/docs/transformers/v4.37.0/en/model_doc/roberta#transformers.RobertaForSequenceClassification)\n",
    "    :param dataloader: A validation / test set dataloader for SST2Dataset\n",
    "    :return: A floating number representing the accuracy of model in the given dataset.\n",
    "    \"\"\"\n",
    "    # TODO: set the model to the evaluation mode.\n",
    "    model.eval()\n",
    "\n",
    "    all_predictions = []\n",
    "    all_labels = []\n",
    "    with tqdm(dataloader, desc=f\"Eval\", total=len(dataloader)) as tq:\n",
    "        for batch in tq:\n",
    "            with torch.no_grad():\n",
    "                # TODO: retrieve the data from your batch and send it to the same device as your model (i.e., model.device).\n",
    "                # Hint: model.device should point to 'cuda' as you set it as such in the main function below.\n",
    "                #       However, please use `model.device` and don't hard code it to 'cuda' as the auto-grader will put the model on CPU.\n",
    "                text_encoding = {k: v.to(model.device) for k, v in batch.items() if k != 'labels'}\n",
    "                label_encoding = batch['labels'].to(model.device)\n",
    "\n",
    "                # TODO: inference with model and compute logits.\n",
    "                outputs = model(**text_encoding)\n",
    "                logits = outputs.logits # Hint: logit should be of size (batch_size, 2)\n",
    "\n",
    "                # TODO: compute list of predictions and list of labels for the current batch\n",
    "                predictions = torch.argmax(logits, dim=1).tolist() # Hint: should be a list [0, 1, ...] of predicted labels\n",
    "                labels = label_encoding.tolist() # Hint: should be a list [0, 1, ...] of ground-truth labels\n",
    "\n",
    "                all_predictions += predictions\n",
    "                all_labels += labels\n",
    "\n",
    "    # compute accuracy\n",
    "    all_predictions = torch.Tensor(all_predictions)\n",
    "    all_labels = torch.Tensor(all_labels)\n",
    "    accuracy = compute_accuracy(all_predictions, all_labels)\n",
    "\n",
    "    print(f\"Accuracy: {accuracy}\")\n",
    "    return accuracy\n",
    "\n",
    "\n",
    "def compute_accuracy(predictions: torch.Tensor, labels: torch.Tensor) -> float:\n",
    "    \"\"\"\n",
    "    Given two tensors predictions and labels, compute the accuracy.\n",
    "    :param predictions: torch.Tensor of size (N,)\n",
    "    :param labels: torch.Tensor of size (N,)\n",
    "    :return: A floating number representing the accuracy\n",
    "    \"\"\"\n",
    "    assert predictions.size(-1) == labels.size(-1)\n",
    "\n",
    "    # TODO: compute accuracy\n",
    "    accuracy = (predictions == labels).float().mean().item()\n",
    "    return accuracy"
   ],
   "outputs": [],
   "execution_count": 7
  },
  {
   "cell_type": "markdown",
   "metadata": {
    "id": "4c64zTgzaKNR"
   },
   "source": [
    "# Step 4: Main Training Loop\n",
    "\n",
    "The main function uses all the functions implemented above to learn a model for certain number of epochs and evaluate it. Read through the comments and implement `main` that fine-tunes the RoBERTa-based on SST-2."
   ]
  },
  {
   "cell_type": "markdown",
   "metadata": {
    "id": "biwuzhhYO57P"
   },
   "source": [
    "## **Coding Exercises** for Step 4:\n",
    "Here, we provide a skeleton for the `main` function. **You will complete code blocks denoted by `TODO:`.**"
   ]
  },
  {
   "cell_type": "code",
   "metadata": {
    "id": "DTG5EnW7UyPL",
    "ExecuteTime": {
     "end_time": "2025-02-13T00:23:58.387203Z",
     "start_time": "2025-02-13T00:23:58.383480Z"
    }
   },
   "source": [
    "torch.manual_seed(64)\n",
    "\n",
    "def main():\n",
    "    # hyper-parameters (we provide initial set of values here, but you can modify them.)\n",
    "    batch_size = 64\n",
    "    learning_rate = 5e-5\n",
    "    num_epochs = 10\n",
    "    model_name = \"roberta-base\"\n",
    "\n",
    "    # TODO: load pre-trained model and corresponding tokenizer (given model_name above).\n",
    "    tokenizer = AutoTokenizer.from_pretrained(model_name)\n",
    "    model = AutoModelForSequenceClassification.from_pretrained(model_name, num_labels=2)\n",
    "\n",
    "    # load model on GPU.\n",
    "    model = model.cuda()\n",
    "\n",
    "    # TODO: initialize the AdamW optimizer with optional arguments: lr=learning_rate, eps=1e-8\n",
    "    optimizer = AdamW(model.parameters(), lr=learning_rate, eps=1e-8)\n",
    "\n",
    "    # TODO: load datasets.\n",
    "    datasets = initialize_datasets(tokenizer)\n",
    "\n",
    "    # TODO: initialize that training and evaluation (validation / test) dataloaders.\n",
    "    # Hint: you should use the validation dataset during hyperparameter tuning,\n",
    "    # and evaluate the model on the test set once after you finalize the design choice of your model.\n",
    "    # Hint: you should shuffle the training data, but not the validation data.\n",
    "    train_dataloader = DataLoader(datasets['train'], batch_size=batch_size, shuffle=True, collate_fn=SST2Dataset.collate_fn)\n",
    "    validation_dataloader = DataLoader(datasets['validation'], batch_size=batch_size, shuffle=False, collate_fn=SST2Dataset.collate_fn)\n",
    "\n",
    "    # training loop.\n",
    "    best_acc = 0.0\n",
    "    for epoch in range(1, num_epochs + 1):\n",
    "        train_one_epoch(model, train_dataloader, optimizer, epoch)\n",
    "        valid_acc = evaluate(model, validation_dataloader)\n",
    "\n",
    "        # TODO: if the newly trained model checkpoint is better than the previously\n",
    "        # saved checkpoint, save the new model in `./checkpoints` folder.\n",
    "        # Hint: remember to update best_acc to the accuracy of the best model so far.\n",
    "        if valid_acc > best_acc:\n",
    "            best_acc = valid_acc\n",
    "            torch.save(model.state_dict(), './checkpoints/best_model.pth')\n",
    "            print(f\"New best model saved with accuracy: {best_acc:.4f}\")\n"
   ],
   "outputs": [],
   "execution_count": 8
  },
  {
   "metadata": {
    "ExecuteTime": {
     "end_time": "2025-02-13T00:24:00.151099Z",
     "start_time": "2025-02-13T00:24:00.145256Z"
    }
   },
   "cell_type": "code",
   "source": [
    "from tqdm.notebook import tqdm\n",
    "tqdm(range(10))"
   ],
   "outputs": [
    {
     "data": {
      "text/plain": [
       "  0%|          | 0/10 [00:00<?, ?it/s]"
      ],
      "application/vnd.jupyter.widget-view+json": {
       "version_major": 2,
       "version_minor": 0,
       "model_id": "847f22dcf66b463289e5a8239c096ca4"
      }
     },
     "metadata": {},
     "output_type": "display_data"
    },
    {
     "data": {
      "text/plain": [
       "<tqdm.notebook.tqdm_notebook at 0x79a6fef9c1a0>"
      ]
     },
     "execution_count": 9,
     "metadata": {},
     "output_type": "execute_result"
    }
   ],
   "execution_count": 9
  },
  {
   "cell_type": "code",
   "metadata": {
    "id": "XmMc07CfUtJo",
    "ExecuteTime": {
     "end_time": "2025-02-13T00:28:24.559430Z",
     "start_time": "2025-02-13T00:24:02.126034Z"
    }
   },
   "source": [
    "# Run the main training loop.\n",
    "# NOTE: if implemented well, each training epoch will take less than 2 minutes.\n",
    "main()"
   ],
   "outputs": [
    {
     "name": "stderr",
     "output_type": "stream",
     "text": [
      "Some weights of RobertaForSequenceClassification were not initialized from the model checkpoint at roberta-base and are newly initialized: ['classifier.dense.bias', 'classifier.dense.weight', 'classifier.out_proj.bias', 'classifier.out_proj.weight']\n",
      "You should probably TRAIN this model on a down-stream task to be able to use it for predictions and inference.\n"
     ]
    },
    {
     "data": {
      "text/plain": [
       "Train Ep 1:   0%|          | 0/109 [00:00<?, ?it/s]"
      ],
      "application/vnd.jupyter.widget-view+json": {
       "version_major": 2,
       "version_minor": 0,
       "model_id": "c398390528d749b3bf7d2aa3c286912b"
      }
     },
     "metadata": {},
     "output_type": "display_data"
    },
    {
     "data": {
      "text/plain": [
       "Eval:   0%|          | 0/14 [00:00<?, ?it/s]"
      ],
      "application/vnd.jupyter.widget-view+json": {
       "version_major": 2,
       "version_minor": 0,
       "model_id": "06da5f807907412b93f295c56f1f0d9b"
      }
     },
     "metadata": {},
     "output_type": "display_data"
    },
    {
     "name": "stdout",
     "output_type": "stream",
     "text": [
      "Accuracy: 0.8933486342430115\n",
      "New best model saved with accuracy: 0.8933\n"
     ]
    },
    {
     "data": {
      "text/plain": [
       "Train Ep 2:   0%|          | 0/109 [00:00<?, ?it/s]"
      ],
      "application/vnd.jupyter.widget-view+json": {
       "version_major": 2,
       "version_minor": 0,
       "model_id": "28911d60429744959aebb6bc76e71232"
      }
     },
     "metadata": {},
     "output_type": "display_data"
    },
    {
     "data": {
      "text/plain": [
       "Eval:   0%|          | 0/14 [00:00<?, ?it/s]"
      ],
      "application/vnd.jupyter.widget-view+json": {
       "version_major": 2,
       "version_minor": 0,
       "model_id": "9ea2a46a73854327a468d887eeb59671"
      }
     },
     "metadata": {},
     "output_type": "display_data"
    },
    {
     "name": "stdout",
     "output_type": "stream",
     "text": [
      "Accuracy: 0.9231651425361633\n",
      "New best model saved with accuracy: 0.9232\n"
     ]
    },
    {
     "data": {
      "text/plain": [
       "Train Ep 3:   0%|          | 0/109 [00:00<?, ?it/s]"
      ],
      "application/vnd.jupyter.widget-view+json": {
       "version_major": 2,
       "version_minor": 0,
       "model_id": "6b0ac62442b94462805bf11a136dce96"
      }
     },
     "metadata": {},
     "output_type": "display_data"
    },
    {
     "data": {
      "text/plain": [
       "Eval:   0%|          | 0/14 [00:00<?, ?it/s]"
      ],
      "application/vnd.jupyter.widget-view+json": {
       "version_major": 2,
       "version_minor": 0,
       "model_id": "8f4ff95a389545ba91d4399f382c5c44"
      }
     },
     "metadata": {},
     "output_type": "display_data"
    },
    {
     "name": "stdout",
     "output_type": "stream",
     "text": [
      "Accuracy: 0.9300458431243896\n",
      "New best model saved with accuracy: 0.9300\n"
     ]
    },
    {
     "data": {
      "text/plain": [
       "Train Ep 4:   0%|          | 0/109 [00:00<?, ?it/s]"
      ],
      "application/vnd.jupyter.widget-view+json": {
       "version_major": 2,
       "version_minor": 0,
       "model_id": "2b8a5dc8e3c04e2bbec0fa6ae0bca224"
      }
     },
     "metadata": {},
     "output_type": "display_data"
    },
    {
     "data": {
      "text/plain": [
       "Eval:   0%|          | 0/14 [00:00<?, ?it/s]"
      ],
      "application/vnd.jupyter.widget-view+json": {
       "version_major": 2,
       "version_minor": 0,
       "model_id": "499a5d3bf1f244588158e5e55ed0bc9b"
      }
     },
     "metadata": {},
     "output_type": "display_data"
    },
    {
     "name": "stdout",
     "output_type": "stream",
     "text": [
      "Accuracy: 0.9128440618515015\n"
     ]
    },
    {
     "data": {
      "text/plain": [
       "Train Ep 5:   0%|          | 0/109 [00:00<?, ?it/s]"
      ],
      "application/vnd.jupyter.widget-view+json": {
       "version_major": 2,
       "version_minor": 0,
       "model_id": "16156c32c3294badaae31d28b957974b"
      }
     },
     "metadata": {},
     "output_type": "display_data"
    },
    {
     "data": {
      "text/plain": [
       "Eval:   0%|          | 0/14 [00:00<?, ?it/s]"
      ],
      "application/vnd.jupyter.widget-view+json": {
       "version_major": 2,
       "version_minor": 0,
       "model_id": "f5752aeed33644a0b3b649818d4b047f"
      }
     },
     "metadata": {},
     "output_type": "display_data"
    },
    {
     "name": "stdout",
     "output_type": "stream",
     "text": [
      "Accuracy: 0.9197247624397278\n"
     ]
    },
    {
     "data": {
      "text/plain": [
       "Train Ep 6:   0%|          | 0/109 [00:00<?, ?it/s]"
      ],
      "application/vnd.jupyter.widget-view+json": {
       "version_major": 2,
       "version_minor": 0,
       "model_id": "d830e1e2740e41cbb33ff3759d3e72da"
      }
     },
     "metadata": {},
     "output_type": "display_data"
    },
    {
     "data": {
      "text/plain": [
       "Eval:   0%|          | 0/14 [00:00<?, ?it/s]"
      ],
      "application/vnd.jupyter.widget-view+json": {
       "version_major": 2,
       "version_minor": 0,
       "model_id": "75192d48651c430c8b8f4e990a289c92"
      }
     },
     "metadata": {},
     "output_type": "display_data"
    },
    {
     "name": "stdout",
     "output_type": "stream",
     "text": [
      "Accuracy: 0.91399085521698\n"
     ]
    },
    {
     "data": {
      "text/plain": [
       "Train Ep 7:   0%|          | 0/109 [00:00<?, ?it/s]"
      ],
      "application/vnd.jupyter.widget-view+json": {
       "version_major": 2,
       "version_minor": 0,
       "model_id": "d8f194e47fcc4611b90e723d8dc4da24"
      }
     },
     "metadata": {},
     "output_type": "display_data"
    },
    {
     "data": {
      "text/plain": [
       "Eval:   0%|          | 0/14 [00:00<?, ?it/s]"
      ],
      "application/vnd.jupyter.widget-view+json": {
       "version_major": 2,
       "version_minor": 0,
       "model_id": "06037602998b4193921348599124cdc4"
      }
     },
     "metadata": {},
     "output_type": "display_data"
    },
    {
     "name": "stdout",
     "output_type": "stream",
     "text": [
      "Accuracy: 0.9254587292671204\n"
     ]
    },
    {
     "data": {
      "text/plain": [
       "Train Ep 8:   0%|          | 0/109 [00:00<?, ?it/s]"
      ],
      "application/vnd.jupyter.widget-view+json": {
       "version_major": 2,
       "version_minor": 0,
       "model_id": "930e81662c5942149efae4041ee3a730"
      }
     },
     "metadata": {},
     "output_type": "display_data"
    },
    {
     "data": {
      "text/plain": [
       "Eval:   0%|          | 0/14 [00:00<?, ?it/s]"
      ],
      "application/vnd.jupyter.widget-view+json": {
       "version_major": 2,
       "version_minor": 0,
       "model_id": "f083bf700f1742b797abbf834a99121c"
      }
     },
     "metadata": {},
     "output_type": "display_data"
    },
    {
     "name": "stdout",
     "output_type": "stream",
     "text": [
      "Accuracy: 0.9254587292671204\n"
     ]
    },
    {
     "data": {
      "text/plain": [
       "Train Ep 9:   0%|          | 0/109 [00:00<?, ?it/s]"
      ],
      "application/vnd.jupyter.widget-view+json": {
       "version_major": 2,
       "version_minor": 0,
       "model_id": "d52799ebdca44838868c8c140ad3a414"
      }
     },
     "metadata": {},
     "output_type": "display_data"
    },
    {
     "data": {
      "text/plain": [
       "Eval:   0%|          | 0/14 [00:00<?, ?it/s]"
      ],
      "application/vnd.jupyter.widget-view+json": {
       "version_major": 2,
       "version_minor": 0,
       "model_id": "fc560bd7c3d14858bdc521c1e7a76395"
      }
     },
     "metadata": {},
     "output_type": "display_data"
    },
    {
     "name": "stdout",
     "output_type": "stream",
     "text": [
      "Accuracy: 0.9174311757087708\n"
     ]
    },
    {
     "data": {
      "text/plain": [
       "Train Ep 10:   0%|          | 0/109 [00:00<?, ?it/s]"
      ],
      "application/vnd.jupyter.widget-view+json": {
       "version_major": 2,
       "version_minor": 0,
       "model_id": "3c4c047f3a4d4e0786c97d529dc186bb"
      }
     },
     "metadata": {},
     "output_type": "display_data"
    },
    {
     "data": {
      "text/plain": [
       "Eval:   0%|          | 0/14 [00:00<?, ?it/s]"
      ],
      "application/vnd.jupyter.widget-view+json": {
       "version_major": 2,
       "version_minor": 0,
       "model_id": "9bcc3ada4992498683aeb458809ca34d"
      }
     },
     "metadata": {},
     "output_type": "display_data"
    },
    {
     "name": "stdout",
     "output_type": "stream",
     "text": [
      "Accuracy: 0.9208715558052063\n"
     ]
    }
   ],
   "execution_count": 10
  },
  {
   "cell_type": "markdown",
   "metadata": {
    "id": "eAJarNtCWoVi"
   },
   "source": [
    "# Step 5: Testing the Final Model"
   ]
  },
  {
   "cell_type": "markdown",
   "metadata": {
    "id": "PY34O9hqcyAD"
   },
   "source": [
    "## **Coding Exercises** for Step 5:\n",
    "Here, you load your best trained model from `./checkpoints/` and report the test set accuracy. **You will complete the following code blocks denoted by `TODO:`.**\n",
    "\n"
   ]
  },
  {
   "cell_type": "code",
   "metadata": {
    "id": "Xmy87rriepxY",
    "ExecuteTime": {
     "end_time": "2025-02-13T00:29:24.790133Z",
     "start_time": "2025-02-13T00:29:20.026357Z"
    }
   },
   "source": [
    "tokenizer = AutoTokenizer.from_pretrained(\"roberta-base\")\n",
    "\n",
    "# TODO: Load your best trained model from `./checkpoints/` and report the test set accuracy.\n",
    "model = AutoModelForSequenceClassification.from_pretrained(\"roberta-base\", num_labels=2)\n",
    "model.load_state_dict(torch.load('./checkpoints/best_model.pth'))\n",
    "model = model.cuda()\n",
    "\n",
    "datasets = initialize_datasets(tokenizer)\n",
    "# TODO: Load the test dataset\n",
    "test_dataloader = DataLoader(datasets['test'], batch_size=64, shuffle=False, collate_fn=SST2Dataset.collate_fn)\n",
    "\n",
    "# TODO: evaluate the model on the test set\n",
    "test_accuracy = evaluate(model, test_dataloader)\n",
    "print(f\"Test set accuracy: {test_accuracy:.4f}\")"
   ],
   "outputs": [
    {
     "name": "stderr",
     "output_type": "stream",
     "text": [
      "Some weights of RobertaForSequenceClassification were not initialized from the model checkpoint at roberta-base and are newly initialized: ['classifier.dense.bias', 'classifier.dense.weight', 'classifier.out_proj.bias', 'classifier.out_proj.weight']\n",
      "You should probably TRAIN this model on a down-stream task to be able to use it for predictions and inference.\n"
     ]
    },
    {
     "data": {
      "text/plain": [
       "Eval:   0%|          | 0/29 [00:00<?, ?it/s]"
      ],
      "application/vnd.jupyter.widget-view+json": {
       "version_major": 2,
       "version_minor": 0,
       "model_id": "3c68fc74faa046b19f4f76b8f3aa62ae"
      }
     },
     "metadata": {},
     "output_type": "display_data"
    },
    {
     "name": "stdout",
     "output_type": "stream",
     "text": [
      "Accuracy: 0.9456342458724976\n",
      "Test set accuracy: 0.9456\n"
     ]
    }
   ],
   "execution_count": 11
  },
  {
   "metadata": {},
   "cell_type": "markdown",
   "source": "# Further Exploration, for write-ups:"
  },
  {
   "metadata": {},
   "cell_type": "markdown",
   "source": "## 2. Plotting Training and Validation Accuracy Curves"
  },
  {
   "metadata": {
    "ExecuteTime": {
     "end_time": "2025-02-13T01:49:35.222050Z",
     "start_time": "2025-02-13T01:49:35.219416Z"
    }
   },
   "cell_type": "code",
   "source": [
    "# @ray.remote(num_gpus=1)\n",
    "def main_test(batch_size=64, learning_rate=5e-5, num_epochs=20, model_name=\"roberta-base\"):\n",
    "    tokenizer = AutoTokenizer.from_pretrained(model_name)\n",
    "    model = AutoModelForSequenceClassification.from_pretrained(model_name, num_labels=2)\n",
    "    model = model.cuda()\n",
    "    optimizer = AdamW(model.parameters(), lr=learning_rate, eps=1e-8)\n",
    "    datasets = initialize_datasets(tokenizer)\n",
    "    train_dataloader = DataLoader(datasets['train'], batch_size=batch_size, shuffle=True, collate_fn=SST2Dataset.collate_fn)\n",
    "    validation_dataloader = DataLoader(datasets['validation'], batch_size=batch_size, shuffle=False, collate_fn=SST2Dataset.collate_fn)\n",
    "\n",
    "    train_accuracies = []\n",
    "    valid_accuracies = []\n",
    "    best_acc = 0.0\n",
    "\n",
    "    for epoch in range(1, num_epochs + 1):\n",
    "        train_one_epoch(model, train_dataloader, optimizer, epoch)\n",
    "        train_acc = evaluate(model, train_dataloader)\n",
    "        valid_acc = evaluate(model, validation_dataloader)\n",
    "\n",
    "        train_accuracies.append(train_acc)\n",
    "        valid_accuracies.append(valid_acc)\n",
    "\n",
    "        if valid_acc > best_acc:\n",
    "            best_acc = valid_acc\n",
    "            torch.save(model.state_dict(), './checkpoints/best_model.pth')\n",
    "            print(f\"New best model saved with accuracy: {best_acc:.4f}\")\n",
    "\n",
    "    return train_accuracies, valid_accuracies\n"
   ],
   "outputs": [],
   "execution_count": 5
  },
  {
   "metadata": {
    "ExecuteTime": {
     "end_time": "2025-02-13T01:50:06.079818Z",
     "start_time": "2025-02-13T01:49:38.441711Z"
    }
   },
   "cell_type": "code",
   "source": [
    "# Run the main function with default hyperparameters\n",
    "train_acc, valid_acc = main_test()\n",
    "# future = main_test.remote()\n",
    "# train_acc, valid_acc = ray.get(future)\n",
    "\n",
    "# Plot the accuracy curves\n",
    "import matplotlib.pyplot as plt\n",
    "\n",
    "plt.figure(figsize=(10, 6))\n",
    "plt.plot(range(1, 21), train_acc, label='Training Accuracy')\n",
    "plt.plot(range(1, 21), valid_acc, label='Validation Accuracy')\n",
    "plt.xlabel('Epoch')\n",
    "plt.ylabel('Accuracy')\n",
    "plt.title('Training and Validation Accuracy Curves')\n",
    "plt.legend()\n",
    "plt.grid(True)\n",
    "plt.show()"
   ],
   "outputs": [
    {
     "ename": "RayTaskError(NameError)",
     "evalue": "\u001B[36mray::main_test()\u001B[39m (pid=45386, ip=192.168.1.21)\n  File \"/tmp/ipykernel_54652/3790230171.py\", line 6, in main_test\nNameError: name 'AutoTokenizer' is not defined",
     "output_type": "error",
     "traceback": [
      "\u001B[0;31m---------------------------------------------------------------------------\u001B[0m",
      "\u001B[0;31mRayTaskError(NameError)\u001B[0m                   Traceback (most recent call last)",
      "Cell \u001B[0;32mIn[6], line 4\u001B[0m\n\u001B[1;32m      1\u001B[0m \u001B[38;5;66;03m# Run the main function with default hyperparameters\u001B[39;00m\n\u001B[1;32m      2\u001B[0m \u001B[38;5;66;03m# train_acc, valid_acc = main_test()\u001B[39;00m\n\u001B[1;32m      3\u001B[0m future \u001B[38;5;241m=\u001B[39m main_test\u001B[38;5;241m.\u001B[39mremote()\n\u001B[0;32m----> 4\u001B[0m train_acc, valid_acc \u001B[38;5;241m=\u001B[39m ray\u001B[38;5;241m.\u001B[39mget(future)\n\u001B[1;32m      6\u001B[0m \u001B[38;5;66;03m# Plot the accuracy curves\u001B[39;00m\n\u001B[1;32m      7\u001B[0m \u001B[38;5;28;01mimport\u001B[39;00m \u001B[38;5;21;01mmatplotlib\u001B[39;00m\u001B[38;5;21;01m.\u001B[39;00m\u001B[38;5;21;01mpyplot\u001B[39;00m \u001B[38;5;28;01mas\u001B[39;00m \u001B[38;5;21;01mplt\u001B[39;00m\n",
      "File \u001B[0;32m~/.cache/conda/envs/ai/lib/python3.12/site-packages/ray/_private/auto_init_hook.py:21\u001B[0m, in \u001B[0;36mwrap_auto_init.<locals>.auto_init_wrapper\u001B[0;34m(*args, **kwargs)\u001B[0m\n\u001B[1;32m     18\u001B[0m \u001B[38;5;129m@wraps\u001B[39m(fn)\n\u001B[1;32m     19\u001B[0m \u001B[38;5;28;01mdef\u001B[39;00m \u001B[38;5;21mauto_init_wrapper\u001B[39m(\u001B[38;5;241m*\u001B[39margs, \u001B[38;5;241m*\u001B[39m\u001B[38;5;241m*\u001B[39mkwargs):\n\u001B[1;32m     20\u001B[0m     auto_init_ray()\n\u001B[0;32m---> 21\u001B[0m     \u001B[38;5;28;01mreturn\u001B[39;00m fn(\u001B[38;5;241m*\u001B[39margs, \u001B[38;5;241m*\u001B[39m\u001B[38;5;241m*\u001B[39mkwargs)\n",
      "File \u001B[0;32m~/.cache/conda/envs/ai/lib/python3.12/site-packages/ray/_private/client_mode_hook.py:102\u001B[0m, in \u001B[0;36mclient_mode_hook.<locals>.wrapper\u001B[0;34m(*args, **kwargs)\u001B[0m\n\u001B[1;32m     98\u001B[0m \u001B[38;5;28;01mif\u001B[39;00m client_mode_should_convert():\n\u001B[1;32m     99\u001B[0m     \u001B[38;5;66;03m# Legacy code\u001B[39;00m\n\u001B[1;32m    100\u001B[0m     \u001B[38;5;66;03m# we only convert init function if RAY_CLIENT_MODE=1\u001B[39;00m\n\u001B[1;32m    101\u001B[0m     \u001B[38;5;28;01mif\u001B[39;00m func\u001B[38;5;241m.\u001B[39m\u001B[38;5;18m__name__\u001B[39m \u001B[38;5;241m!=\u001B[39m \u001B[38;5;124m\"\u001B[39m\u001B[38;5;124minit\u001B[39m\u001B[38;5;124m\"\u001B[39m \u001B[38;5;129;01mor\u001B[39;00m is_client_mode_enabled_by_default:\n\u001B[0;32m--> 102\u001B[0m         \u001B[38;5;28;01mreturn\u001B[39;00m \u001B[38;5;28mgetattr\u001B[39m(ray, func\u001B[38;5;241m.\u001B[39m\u001B[38;5;18m__name__\u001B[39m)(\u001B[38;5;241m*\u001B[39margs, \u001B[38;5;241m*\u001B[39m\u001B[38;5;241m*\u001B[39mkwargs)\n\u001B[1;32m    103\u001B[0m \u001B[38;5;28;01mreturn\u001B[39;00m func(\u001B[38;5;241m*\u001B[39margs, \u001B[38;5;241m*\u001B[39m\u001B[38;5;241m*\u001B[39mkwargs)\n",
      "File \u001B[0;32m~/.cache/conda/envs/ai/lib/python3.12/site-packages/ray/util/client/api.py:42\u001B[0m, in \u001B[0;36m_ClientAPI.get\u001B[0;34m(self, vals, timeout)\u001B[0m\n\u001B[1;32m     35\u001B[0m \u001B[38;5;28;01mdef\u001B[39;00m \u001B[38;5;21mget\u001B[39m(\u001B[38;5;28mself\u001B[39m, vals, \u001B[38;5;241m*\u001B[39m, timeout\u001B[38;5;241m=\u001B[39m\u001B[38;5;28;01mNone\u001B[39;00m):\n\u001B[1;32m     36\u001B[0m \u001B[38;5;250m    \u001B[39m\u001B[38;5;124;03m\"\"\"get is the hook stub passed on to replace `ray.get`\u001B[39;00m\n\u001B[1;32m     37\u001B[0m \n\u001B[1;32m     38\u001B[0m \u001B[38;5;124;03m    Args:\u001B[39;00m\n\u001B[1;32m     39\u001B[0m \u001B[38;5;124;03m        vals: [Client]ObjectRef or list of these refs to retrieve.\u001B[39;00m\n\u001B[1;32m     40\u001B[0m \u001B[38;5;124;03m        timeout: Optional timeout in milliseconds\u001B[39;00m\n\u001B[1;32m     41\u001B[0m \u001B[38;5;124;03m    \"\"\"\u001B[39;00m\n\u001B[0;32m---> 42\u001B[0m     \u001B[38;5;28;01mreturn\u001B[39;00m \u001B[38;5;28mself\u001B[39m\u001B[38;5;241m.\u001B[39mworker\u001B[38;5;241m.\u001B[39mget(vals, timeout\u001B[38;5;241m=\u001B[39mtimeout)\n",
      "File \u001B[0;32m~/.cache/conda/envs/ai/lib/python3.12/site-packages/ray/util/client/worker.py:433\u001B[0m, in \u001B[0;36mWorker.get\u001B[0;34m(self, vals, timeout)\u001B[0m\n\u001B[1;32m    431\u001B[0m     op_timeout \u001B[38;5;241m=\u001B[39m max_blocking_operation_time\n\u001B[1;32m    432\u001B[0m \u001B[38;5;28;01mtry\u001B[39;00m:\n\u001B[0;32m--> 433\u001B[0m     res \u001B[38;5;241m=\u001B[39m \u001B[38;5;28mself\u001B[39m\u001B[38;5;241m.\u001B[39m_get(to_get, op_timeout)\n\u001B[1;32m    434\u001B[0m     \u001B[38;5;28;01mbreak\u001B[39;00m\n\u001B[1;32m    435\u001B[0m \u001B[38;5;28;01mexcept\u001B[39;00m GetTimeoutError:\n",
      "File \u001B[0;32m~/.cache/conda/envs/ai/lib/python3.12/site-packages/ray/util/client/worker.py:461\u001B[0m, in \u001B[0;36mWorker._get\u001B[0;34m(self, ref, timeout)\u001B[0m\n\u001B[1;32m    459\u001B[0m         logger\u001B[38;5;241m.\u001B[39mexception(\u001B[38;5;124m\"\u001B[39m\u001B[38;5;124mFailed to deserialize \u001B[39m\u001B[38;5;132;01m{}\u001B[39;00m\u001B[38;5;124m\"\u001B[39m\u001B[38;5;241m.\u001B[39mformat(chunk\u001B[38;5;241m.\u001B[39merror))\n\u001B[1;32m    460\u001B[0m         \u001B[38;5;28;01mraise\u001B[39;00m\n\u001B[0;32m--> 461\u001B[0m     \u001B[38;5;28;01mraise\u001B[39;00m err\n\u001B[1;32m    462\u001B[0m \u001B[38;5;28;01mif\u001B[39;00m chunk\u001B[38;5;241m.\u001B[39mtotal_size \u001B[38;5;241m>\u001B[39m OBJECT_TRANSFER_WARNING_SIZE \u001B[38;5;129;01mand\u001B[39;00m log_once(\n\u001B[1;32m    463\u001B[0m     \u001B[38;5;124m\"\u001B[39m\u001B[38;5;124mclient_object_transfer_size_warning\u001B[39m\u001B[38;5;124m\"\u001B[39m\n\u001B[1;32m    464\u001B[0m ):\n\u001B[1;32m    465\u001B[0m     size_gb \u001B[38;5;241m=\u001B[39m chunk\u001B[38;5;241m.\u001B[39mtotal_size \u001B[38;5;241m/\u001B[39m \u001B[38;5;241m2\u001B[39m\u001B[38;5;241m*\u001B[39m\u001B[38;5;241m*\u001B[39m\u001B[38;5;241m30\u001B[39m\n",
      "\u001B[0;31mRayTaskError(NameError)\u001B[0m: \u001B[36mray::main_test()\u001B[39m (pid=45386, ip=192.168.1.21)\n  File \"/tmp/ipykernel_54652/3790230171.py\", line 6, in main_test\nNameError: name 'AutoTokenizer' is not defined"
     ]
    }
   ],
   "execution_count": 6
  },
  {
   "metadata": {},
   "cell_type": "markdown",
   "source": "## 3. Describing the Behavior of Training and Validation Curves\n"
  },
  {
   "metadata": {
    "ExecuteTime": {
     "end_time": "2025-02-13T00:51:56.924714Z",
     "start_time": "2025-02-13T00:51:56.922298Z"
    }
   },
   "cell_type": "code",
   "source": [
    "# The plot above shows the training and validation accuracy curves.\n",
    "# To determine the best accuracy and corresponding epoch:\n",
    "\n",
    "best_train_epoch = train_acc.index(max(train_acc)) + 1\n",
    "best_train_acc = max(train_acc)\n",
    "best_valid_epoch = valid_acc.index(max(valid_acc)) + 1\n",
    "best_valid_acc = max(valid_acc)\n",
    "\n",
    "print(f\"Best training accuracy: {best_train_acc:.4f} at epoch {best_train_epoch}\")\n",
    "print(f\"Best validation accuracy: {best_valid_acc:.4f} at epoch {best_valid_epoch}\")\n",
    "\n",
    "# Note: Analyze the trends and explain why they occur in your write-up."
   ],
   "outputs": [
    {
     "name": "stdout",
     "output_type": "stream",
     "text": [
      "Best training accuracy: 1.0000 at epoch 20\n",
      "Best validation accuracy: 0.9312 at epoch 5\n"
     ]
    }
   ],
   "execution_count": 15
  },
  {
   "metadata": {
    "ExecuteTime": {
     "end_time": "2025-02-13T01:44:16.325926Z",
     "start_time": "2025-02-13T01:44:01.555168Z"
    }
   },
   "cell_type": "code",
   "source": [
    "# PERSONAL EXPERIMENTS:\n",
    "# import ray\n",
    "# ray.init(address=\"ray://192.168.1.21:10001\")\n"
   ],
   "outputs": [
    {
     "name": "stderr",
     "output_type": "stream",
     "text": [
      "2025-02-12 17:44:01,695\tINFO client_builder.py:244 -- Passing the following kwargs to ray.init() on the server: log_to_driver\n"
     ]
    },
    {
     "data": {
      "text/plain": [
       "ClientContext(dashboard_url='127.0.0.1:8265', python_version='3.12.7', ray_version='2.42.1', ray_commit='c2e38f7b75be223c0c033986472daada8622d64f', _num_clients=2, _context_to_restore=<ray.util.client._ClientContext object at 0x7c99503433b0>, protocol_version=None)"
      ],
      "application/vnd.jupyter.widget-view+json": {
       "version_major": 2,
       "version_minor": 0,
       "model_id": "245525440acd41aead2cc868f7a18a9a"
      },
      "text/html": [
       "<div class=\"lm-Widget p-Widget lm-Panel p-Panel jp-Cell-outputWrapper\">\n",
       "    <div style=\"margin-left: 50px;display: flex;flex-direction: row;align-items: center\">\n",
       "        <div class=\"jp-RenderedHTMLCommon\" style=\"display: flex; flex-direction: row;\">\n",
       "  <svg viewBox=\"0 0 567 224\" fill=\"none\" xmlns=\"http://www.w3.org/2000/svg\" style=\"height: 3em;\">\n",
       "    <g clip-path=\"url(#clip0_4338_178347)\">\n",
       "        <path d=\"M341.29 165.561H355.29L330.13 129.051C345.63 123.991 354.21 112.051 354.21 94.2307C354.21 71.3707 338.72 58.1807 311.88 58.1807H271V165.561H283.27V131.661H311.8C314.25 131.661 316.71 131.501 319.01 131.351L341.25 165.561H341.29ZM283.29 119.851V70.0007H311.82C331.3 70.0007 342.34 78.2907 342.34 94.5507C342.34 111.271 331.34 119.861 311.82 119.861L283.29 119.851ZM451.4 138.411L463.4 165.561H476.74L428.74 58.1807H416L367.83 165.561H380.83L392.83 138.411H451.4ZM446.19 126.601H398L422 72.1407L446.24 126.601H446.19ZM526.11 128.741L566.91 58.1807H554.35L519.99 114.181L485.17 58.1807H472.44L514.01 129.181V165.541H526.13V128.741H526.11Z\" fill=\"var(--jp-ui-font-color0)\"/>\n",
       "        <path d=\"M82.35 104.44C84.0187 97.8827 87.8248 92.0678 93.1671 87.9146C98.5094 83.7614 105.083 81.5067 111.85 81.5067C118.617 81.5067 125.191 83.7614 130.533 87.9146C135.875 92.0678 139.681 97.8827 141.35 104.44H163.75C164.476 101.562 165.622 98.8057 167.15 96.2605L127.45 56.5605C121.071 60.3522 113.526 61.6823 106.235 60.3005C98.9443 58.9187 92.4094 54.9203 87.8602 49.0574C83.3109 43.1946 81.0609 35.8714 81.5332 28.4656C82.0056 21.0599 85.1679 14.0819 90.4252 8.8446C95.6824 3.60726 102.672 0.471508 110.08 0.0272655C117.487 -0.416977 124.802 1.86091 130.647 6.4324C136.493 11.0039 140.467 17.5539 141.821 24.8501C143.175 32.1463 141.816 39.6859 138 46.0505L177.69 85.7505C182.31 82.9877 187.58 81.4995 192.962 81.4375C198.345 81.3755 203.648 82.742 208.33 85.3976C213.012 88.0532 216.907 91.9029 219.616 96.5544C222.326 101.206 223.753 106.492 223.753 111.875C223.753 117.258 222.326 122.545 219.616 127.197C216.907 131.848 213.012 135.698 208.33 138.353C203.648 141.009 198.345 142.375 192.962 142.313C187.58 142.251 182.31 140.763 177.69 138L138 177.7C141.808 184.071 143.155 191.614 141.79 198.91C140.424 206.205 136.44 212.75 130.585 217.313C124.731 221.875 117.412 224.141 110.004 223.683C102.596 223.226 95.6103 220.077 90.3621 214.828C85.1139 209.58 81.9647 202.595 81.5072 195.187C81.0497 187.779 83.3154 180.459 87.878 174.605C92.4405 168.751 98.9853 164.766 106.281 163.401C113.576 162.035 121.119 163.383 127.49 167.19L167.19 127.49C165.664 124.941 164.518 122.182 163.79 119.3H141.39C139.721 125.858 135.915 131.673 130.573 135.826C125.231 139.98 118.657 142.234 111.89 142.234C105.123 142.234 98.5494 139.98 93.2071 135.826C87.8648 131.673 84.0587 125.858 82.39 119.3H60C58.1878 126.495 53.8086 132.78 47.6863 136.971C41.5641 141.163 34.1211 142.972 26.7579 142.059C19.3947 141.146 12.6191 137.574 7.70605 132.014C2.79302 126.454 0.0813599 119.29 0.0813599 111.87C0.0813599 104.451 2.79302 97.2871 7.70605 91.7272C12.6191 86.1673 19.3947 82.5947 26.7579 81.6817C34.1211 80.7686 41.5641 82.5781 47.6863 86.7696C53.8086 90.9611 58.1878 97.2456 60 104.44H82.35ZM100.86 204.32C103.407 206.868 106.759 208.453 110.345 208.806C113.93 209.159 117.527 208.258 120.522 206.256C123.517 204.254 125.725 201.276 126.771 197.828C127.816 194.38 127.633 190.677 126.253 187.349C124.874 184.021 122.383 181.274 119.205 179.577C116.027 177.88 112.359 177.337 108.826 178.042C105.293 178.746 102.113 180.654 99.8291 183.44C97.5451 186.226 96.2979 189.718 96.3 193.32C96.2985 195.364 96.7006 197.388 97.4831 199.275C98.2656 201.163 99.4132 202.877 100.86 204.32ZM204.32 122.88C206.868 120.333 208.453 116.981 208.806 113.396C209.159 109.811 208.258 106.214 206.256 103.219C204.254 100.223 201.275 98.0151 197.827 96.97C194.38 95.9249 190.676 96.1077 187.348 97.4873C184.02 98.8669 181.274 101.358 179.577 104.536C177.879 107.714 177.337 111.382 178.041 114.915C178.746 118.448 180.653 121.627 183.439 123.911C186.226 126.195 189.717 127.443 193.32 127.44C195.364 127.443 197.388 127.042 199.275 126.259C201.163 125.476 202.878 124.328 204.32 122.88ZM122.88 19.4205C120.333 16.8729 116.981 15.2876 113.395 14.9347C109.81 14.5817 106.213 15.483 103.218 17.4849C100.223 19.4868 98.0146 22.4654 96.9696 25.9131C95.9245 29.3608 96.1073 33.0642 97.4869 36.3922C98.8665 39.7202 101.358 42.4668 104.535 44.1639C107.713 45.861 111.381 46.4036 114.914 45.6992C118.447 44.9949 121.627 43.0871 123.911 40.301C126.195 37.515 127.442 34.0231 127.44 30.4205C127.44 28.3772 127.038 26.3539 126.255 24.4664C125.473 22.5788 124.326 20.8642 122.88 19.4205ZM19.42 100.86C16.8725 103.408 15.2872 106.76 14.9342 110.345C14.5813 113.93 15.4826 117.527 17.4844 120.522C19.4863 123.518 22.4649 125.726 25.9127 126.771C29.3604 127.816 33.0638 127.633 36.3918 126.254C39.7198 124.874 42.4664 122.383 44.1635 119.205C45.8606 116.027 46.4032 112.359 45.6988 108.826C44.9944 105.293 43.0866 102.114 40.3006 99.8296C37.5145 97.5455 34.0227 96.2983 30.42 96.3005C26.2938 96.3018 22.337 97.9421 19.42 100.86ZM100.86 100.86C98.3125 103.408 96.7272 106.76 96.3742 110.345C96.0213 113.93 96.9226 117.527 98.9244 120.522C100.926 123.518 103.905 125.726 107.353 126.771C110.8 127.816 114.504 127.633 117.832 126.254C121.16 124.874 123.906 122.383 125.604 119.205C127.301 116.027 127.843 112.359 127.139 108.826C126.434 105.293 124.527 102.114 121.741 99.8296C118.955 97.5455 115.463 96.2983 111.86 96.3005C109.817 96.299 107.793 96.701 105.905 97.4835C104.018 98.2661 102.303 99.4136 100.86 100.86Z\" fill=\"#00AEEF\"/>\n",
       "    </g>\n",
       "    <defs>\n",
       "        <clipPath id=\"clip0_4338_178347\">\n",
       "            <rect width=\"566.93\" height=\"223.75\" fill=\"white\"/>\n",
       "        </clipPath>\n",
       "    </defs>\n",
       "  </svg>\n",
       "</div>\n",
       "\n",
       "        <table class=\"jp-RenderedHTMLCommon\" style=\"border-collapse: collapse;color: var(--jp-ui-font-color1);font-size: var(--jp-ui-font-size1);\">\n",
       "    <tr>\n",
       "        <td style=\"text-align: left\"><b>Python version:</b></td>\n",
       "        <td style=\"text-align: left\"><b>3.12.7</b></td>\n",
       "    </tr>\n",
       "    <tr>\n",
       "        <td style=\"text-align: left\"><b>Ray version:</b></td>\n",
       "        <td style=\"text-align: left\"><b>2.42.1</b></td>\n",
       "    </tr>\n",
       "    <tr>\n",
       "    <td style=\"text-align: left\"><b>Dashboard:</b></td>\n",
       "    <td style=\"text-align: left\"><b><a href=\"http://127.0.0.1:8265\" target=\"_blank\">http://127.0.0.1:8265</a></b></td>\n",
       "</tr>\n",
       "\n",
       "</table>\n",
       "\n",
       "    </div>\n",
       "</div>\n"
      ]
     },
     "execution_count": 1,
     "metadata": {},
     "output_type": "execute_result"
    }
   ],
   "execution_count": 1
  },
  {
   "metadata": {
    "ExecuteTime": {
     "end_time": "2025-02-13T01:45:20.126337Z",
     "start_time": "2025-02-13T01:45:20.118258Z"
    }
   },
   "cell_type": "code",
   "source": "# print(ray.nodes())",
   "outputs": [
    {
     "name": "stdout",
     "output_type": "stream",
     "text": [
      "[{'NodeID': '3415f7ca141163fd9f55f52a1a034c33317a1b193d6a57e4f6c73b45', 'Alive': True, 'NodeManagerAddress': '192.168.1.21', 'NodeManagerHostname': 'honeypot', 'NodeManagerPort': 38361, 'ObjectManagerPort': 33149, 'ObjectStoreSocketName': '/tmp/ray/session_2025-02-12_17-41-15_121149_44498/sockets/plasma_store', 'RayletSocketName': '/tmp/ray/session_2025-02-12_17-41-15_121149_44498/sockets/raylet', 'MetricsExportPort': 55815, 'NodeName': '192.168.1.21', 'RuntimeEnvAgentPort': 41000, 'DeathReason': 0, 'DeathReasonMessage': '', 'alive': True, 'Resources': {'node:__internal_head__': 1.0, 'memory': 15832495719.0, 'node:192.168.1.21': 1.0, 'GPU': 1.0, 'accelerator_type:G': 1.0, 'object_store_memory': 7916247859.0, 'CPU': 16.0}, 'Labels': {'ray.io/node_id': '3415f7ca141163fd9f55f52a1a034c33317a1b193d6a57e4f6c73b45'}}]\n"
     ]
    }
   ],
   "execution_count": 2
  },
  {
   "metadata": {
    "ExecuteTime": {
     "end_time": "2025-02-13T01:45:42.368973Z",
     "start_time": "2025-02-13T01:45:37.103426Z"
    }
   },
   "cell_type": "code",
   "source": [
    "# @ray.remote\n",
    "# def train_model():\n",
    "#     import time\n",
    "#     time.sleep(5)  # Simulating training\n",
    "#     return \"Training completed on remote machine\"\n",
    "#\n",
    "# # Run training on the remote node\n",
    "# future = train_model.remote()\n",
    "# print(ray.get(future))\n"
   ],
   "outputs": [
    {
     "name": "stdout",
     "output_type": "stream",
     "text": [
      "Training completed on remote machine\n"
     ]
    }
   ],
   "execution_count": 3
  },
  {
   "metadata": {},
   "cell_type": "markdown",
   "source": "## 4. Experimenting with Different Hyperparameters"
  },
  {
   "metadata": {},
   "cell_type": "code",
   "outputs": [],
   "execution_count": null,
   "source": [
    "# Let's define a function to try different hyperparameter combinations\n",
    "def hyperparameter_search():\n",
    "    hyperparameters = [\n",
    "        {'batch_size': 32, 'learning_rate': 1e-5, 'num_epochs': 15},\n",
    "        {'batch_size': 64, 'learning_rate': 5e-5, 'num_epochs': 20},\n",
    "        {'batch_size': 128, 'learning_rate': 1e-4, 'num_epochs': 10},\n",
    "        # Add more combinations as needed\n",
    "    ]\n",
    "\n",
    "    best_valid_acc = 0\n",
    "    best_params = None\n",
    "\n",
    "    for params in hyperparameters:\n",
    "        print(f\"Training with parameters: {params}\")\n",
    "        _, valid_acc = main(**params)\n",
    "        final_valid_acc = valid_acc[-1]\n",
    "\n",
    "        if final_valid_acc > best_valid_acc:\n",
    "            best_valid_acc = final_valid_acc\n",
    "            best_params = params\n",
    "\n",
    "    return best_params, best_valid_acc\n",
    "\n",
    "best_params, best_acc = hyperparameter_search()\n",
    "print(f\"Best hyperparameters: {best_params}\")\n",
    "print(f\"Best validation accuracy: {best_acc:.4f}\")\n",
    "\n",
    "# Note: Describe your strategy for hyperparameter tuning in your write-up."
   ]
  },
  {
   "metadata": {},
   "cell_type": "markdown",
   "source": "## 5. Final Model Performance"
  },
  {
   "metadata": {},
   "cell_type": "code",
   "outputs": [],
   "execution_count": null,
   "source": [
    "# Load the best model and evaluate on all datasets\n",
    "tokenizer = AutoTokenizer.from_pretrained(\"roberta-base\")\n",
    "model = AutoModelForSequenceClassification.from_pretrained(\"roberta-base\", num_labels=2)\n",
    "model.load_state_dict(torch.load('./checkpoints/best_model.pth'))\n",
    "model = model.cuda()\n",
    "\n",
    "datasets = initialize_datasets(tokenizer)\n",
    "\n",
    "train_dataloader = DataLoader(datasets['train'], batch_size=best_params['batch_size'], shuffle=False, collate_fn=SST2Dataset.collate_fn)\n",
    "valid_dataloader = DataLoader(datasets['validation'], batch_size=best_params['batch_size'], shuffle=False, collate_fn=SST2Dataset.collate_fn)\n",
    "test_dataloader = DataLoader(datasets['test'], batch_size=best_params['batch_size'], shuffle=False, collate_fn=SST2Dataset.collate_fn)\n",
    "\n",
    "train_accuracy = evaluate(model, train_dataloader)\n",
    "valid_accuracy = evaluate(model, valid_dataloader)\n",
    "test_accuracy = evaluate(model, test_dataloader)\n",
    "\n",
    "print(f\"Best model hyperparameters:\")\n",
    "print(f\"Optimizer: AdamW\")\n",
    "print(f\"Batch size: {best_params['batch_size']}\")\n",
    "print(f\"Learning rate: {best_params['learning_rate']}\")\n",
    "print(f\"Number of epochs: {best_params['num_epochs']}\")\n",
    "print(f\"\\nFinal model performance:\")\n",
    "print(f\"Training accuracy: {train_accuracy:.4f}\")\n",
    "print(f\"Validation accuracy: {valid_accuracy:.4f}\")\n",
    "print(f\"Test accuracy: {test_accuracy:.4f}\")"
   ]
  }
 ],
 "metadata": {
  "accelerator": "GPU",
  "colab": {
   "gpuType": "T4",
   "provenance": []
  },
  "kernelspec": {
   "display_name": "Python 3 (ipykernel)",
   "name": "python3",
   "language": "python"
  },
  "language_info": {
   "name": "python"
  }
 },
 "nbformat": 4,
 "nbformat_minor": 0
}
